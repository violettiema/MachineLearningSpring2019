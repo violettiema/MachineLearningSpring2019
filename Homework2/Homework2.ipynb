{
 "cells": [
  {
   "cell_type": "markdown",
   "metadata": {},
   "source": [
    "=================================================================================================================\n",
    "\n",
    "# MACHINE LEARNING\n",
    "\n",
    "## HOMEWORK 2\n",
    "\n",
    "### VIOLET TIEMA\n",
    "\n",
    "### February 2019\n",
    "\n",
    "\n",
    "================================================================================================================="
   ]
  },
  {
   "cell_type": "code",
   "execution_count": 70,
   "metadata": {},
   "outputs": [],
   "source": [
    "import numpy as np\n",
    "from pandas import *\n",
    "import pandas as pd\n",
    "from numpy import linalg\n",
    "from sklearn.svm import SVR\n",
    "from sklearn import metrics\n",
    "import matplotlib.pyplot as plt\n",
    "from sklearn.linear_model import Ridge\n",
    "from sklearn.linear_model import Lasso\n",
    "from sklearn.model_selection import KFold\n",
    "from sklearn.model_selection import GridSearchCV\n",
    "from sklearn.metrics import mean_squared_error\n",
    "from sklearn.model_selection import cross_val_score\n",
    "\n",
    "\n",
    "%matplotlib inline\n"
   ]
  },
  {
   "cell_type": "markdown",
   "metadata": {},
   "source": [
    "# Opening and reading in the scaled Boston Housing data"
   ]
  },
  {
   "cell_type": "code",
   "execution_count": 2,
   "metadata": {},
   "outputs": [],
   "source": [
    "file = open(\"house_scale.txt\")\n",
    "file = file.read()\n",
    "\n",
    "# Removing the \"digit:\" characters from the txt file\n",
    "\n",
    "file = file.replace(\"1:\", \"\").replace(\"2:\", \"\").replace(\"3:\", \"\")\n",
    "file = file.replace(\"4:\", \"\").replace(\"5:\", \"\").replace(\"6:\", \"\")\n",
    "file = file.replace(\"7:\", \"\").replace(\"8:\", \"\").replace(\"9:\", \"\")\n",
    "file = file.replace(\"10:\", \"\").replace(\"13:\", \"\")\n",
    "\n",
    "# writing the transformed text to a new txt file\n",
    "    \n",
    "f = open(\"HA.txt\", \"w\")\n",
    "\n",
    "f.write(file)\n",
    "\n",
    "f.close()"
   ]
  },
  {
   "cell_type": "markdown",
   "metadata": {},
   "source": [
    "# Creating a pandas Dataframe for the scaled bousing data"
   ]
  },
  {
   "cell_type": "code",
   "execution_count": 3,
   "metadata": {},
   "outputs": [],
   "source": [
    "df = pd.read_csv('HA.txt', sep = \" \", header = None)\n",
    "df = df.drop([14], axis = 1)\n",
    "\n",
    "\n",
    "# removing unwanted digits from some of the columns of the dataframe and \n",
    "# converting the elements of each column from strings to floats\n",
    "# We also replace all the NaN values by zeros\n",
    "\n",
    "\n",
    "df[11] = df[11].map(lambda x: x.lstrip('1').rstrip('aAbBcC'))\n",
    "df[13] = df[13].map(lambda x: x.lstrip('1').rstrip('aAbBcC'))\n",
    "df[12] = df[12].map(lambda x: str(x)[1:])\n",
    "df[\"TARGET\"] = df[0]\n",
    "df = df.drop([0], axis = 1)\n",
    "\n",
    "df[1] = df[1].astype(float)\n",
    "df[2] = df[2].astype(float)\n",
    "df[3] = df[3].astype(float)\n",
    "df[4] = df[4].astype(float)\n",
    "df[5] = df[5].astype(float)\n",
    "df[6] = df[6].astype(float)\n",
    "df[7] = df[7].astype(float)\n",
    "df[8] = df[8].astype(float)\n",
    "df[9] = df[9].astype(float)\n",
    "df[10] = df[10].astype(float)\n",
    "df[11] = pd.to_numeric(df[11]).fillna(0.0)\n",
    "df[12] = df[12].astype(float)\n",
    "df[13] = pd.to_numeric(df[13]).fillna(0.0)\n",
    "df[\"TARGET\"] = df[\"TARGET\"].astype(float)\n",
    "\n"
   ]
  },
  {
   "cell_type": "code",
   "execution_count": 4,
   "metadata": {},
   "outputs": [
    {
     "data": {
      "text/html": [
       "<div>\n",
       "<style scoped>\n",
       "    .dataframe tbody tr th:only-of-type {\n",
       "        vertical-align: middle;\n",
       "    }\n",
       "\n",
       "    .dataframe tbody tr th {\n",
       "        vertical-align: top;\n",
       "    }\n",
       "\n",
       "    .dataframe thead th {\n",
       "        text-align: right;\n",
       "    }\n",
       "</style>\n",
       "<table border=\"1\" class=\"dataframe\">\n",
       "  <thead>\n",
       "    <tr style=\"text-align: right;\">\n",
       "      <th></th>\n",
       "      <th>1</th>\n",
       "      <th>2</th>\n",
       "      <th>3</th>\n",
       "      <th>4</th>\n",
       "      <th>5</th>\n",
       "      <th>6</th>\n",
       "      <th>7</th>\n",
       "      <th>8</th>\n",
       "      <th>9</th>\n",
       "      <th>10</th>\n",
       "      <th>11</th>\n",
       "      <th>12</th>\n",
       "      <th>13</th>\n",
       "      <th>TARGET</th>\n",
       "    </tr>\n",
       "  </thead>\n",
       "  <tbody>\n",
       "    <tr>\n",
       "      <th>0</th>\n",
       "      <td>-1.000000</td>\n",
       "      <td>-0.64</td>\n",
       "      <td>-0.864370</td>\n",
       "      <td>-1.0</td>\n",
       "      <td>-0.370370</td>\n",
       "      <td>0.155011</td>\n",
       "      <td>0.283213</td>\n",
       "      <td>-0.461594</td>\n",
       "      <td>-1.000000</td>\n",
       "      <td>-0.583969</td>\n",
       "      <td>-0.425532</td>\n",
       "      <td>1.000000</td>\n",
       "      <td>-0.820640</td>\n",
       "      <td>24.0</td>\n",
       "    </tr>\n",
       "    <tr>\n",
       "      <th>1</th>\n",
       "      <td>-0.999528</td>\n",
       "      <td>-1.00</td>\n",
       "      <td>-0.515396</td>\n",
       "      <td>-1.0</td>\n",
       "      <td>-0.654321</td>\n",
       "      <td>0.095995</td>\n",
       "      <td>0.565396</td>\n",
       "      <td>-0.302076</td>\n",
       "      <td>-0.913043</td>\n",
       "      <td>-0.790076</td>\n",
       "      <td>0.106383</td>\n",
       "      <td>1.000000</td>\n",
       "      <td>-0.591060</td>\n",
       "      <td>21.6</td>\n",
       "    </tr>\n",
       "    <tr>\n",
       "      <th>2</th>\n",
       "      <td>-0.999529</td>\n",
       "      <td>-1.00</td>\n",
       "      <td>-0.515396</td>\n",
       "      <td>-1.0</td>\n",
       "      <td>-0.654321</td>\n",
       "      <td>0.388772</td>\n",
       "      <td>0.198764</td>\n",
       "      <td>-0.302076</td>\n",
       "      <td>-0.913043</td>\n",
       "      <td>-0.790076</td>\n",
       "      <td>0.106383</td>\n",
       "      <td>0.979475</td>\n",
       "      <td>-0.873068</td>\n",
       "      <td>34.7</td>\n",
       "    </tr>\n",
       "    <tr>\n",
       "      <th>3</th>\n",
       "      <td>-0.999414</td>\n",
       "      <td>-1.00</td>\n",
       "      <td>-0.873900</td>\n",
       "      <td>-1.0</td>\n",
       "      <td>-0.699588</td>\n",
       "      <td>0.317111</td>\n",
       "      <td>-0.116375</td>\n",
       "      <td>-0.102911</td>\n",
       "      <td>-0.826087</td>\n",
       "      <td>-0.866412</td>\n",
       "      <td>0.297872</td>\n",
       "      <td>0.988552</td>\n",
       "      <td>-0.933223</td>\n",
       "      <td>33.4</td>\n",
       "    </tr>\n",
       "    <tr>\n",
       "      <th>4</th>\n",
       "      <td>-0.998590</td>\n",
       "      <td>-1.00</td>\n",
       "      <td>-0.873900</td>\n",
       "      <td>-1.0</td>\n",
       "      <td>-0.699588</td>\n",
       "      <td>0.374210</td>\n",
       "      <td>0.056643</td>\n",
       "      <td>-0.102911</td>\n",
       "      <td>-0.826087</td>\n",
       "      <td>-0.866412</td>\n",
       "      <td>0.297872</td>\n",
       "      <td>1.000000</td>\n",
       "      <td>-0.801325</td>\n",
       "      <td>36.2</td>\n",
       "    </tr>\n",
       "  </tbody>\n",
       "</table>\n",
       "</div>"
      ],
      "text/plain": [
       "          1     2         3    4         5         6         7         8  \\\n",
       "0 -1.000000 -0.64 -0.864370 -1.0 -0.370370  0.155011  0.283213 -0.461594   \n",
       "1 -0.999528 -1.00 -0.515396 -1.0 -0.654321  0.095995  0.565396 -0.302076   \n",
       "2 -0.999529 -1.00 -0.515396 -1.0 -0.654321  0.388772  0.198764 -0.302076   \n",
       "3 -0.999414 -1.00 -0.873900 -1.0 -0.699588  0.317111 -0.116375 -0.102911   \n",
       "4 -0.998590 -1.00 -0.873900 -1.0 -0.699588  0.374210  0.056643 -0.102911   \n",
       "\n",
       "          9        10        11        12        13  TARGET  \n",
       "0 -1.000000 -0.583969 -0.425532  1.000000 -0.820640    24.0  \n",
       "1 -0.913043 -0.790076  0.106383  1.000000 -0.591060    21.6  \n",
       "2 -0.913043 -0.790076  0.106383  0.979475 -0.873068    34.7  \n",
       "3 -0.826087 -0.866412  0.297872  0.988552 -0.933223    33.4  \n",
       "4 -0.826087 -0.866412  0.297872  1.000000 -0.801325    36.2  "
      ]
     },
     "execution_count": 4,
     "metadata": {},
     "output_type": "execute_result"
    }
   ],
   "source": [
    "# The first five rows of the data\n",
    "\n",
    "df.head()"
   ]
  },
  {
   "cell_type": "code",
   "execution_count": 5,
   "metadata": {},
   "outputs": [
    {
     "data": {
      "text/html": [
       "<div>\n",
       "<style scoped>\n",
       "    .dataframe tbody tr th:only-of-type {\n",
       "        vertical-align: middle;\n",
       "    }\n",
       "\n",
       "    .dataframe tbody tr th {\n",
       "        vertical-align: top;\n",
       "    }\n",
       "\n",
       "    .dataframe thead th {\n",
       "        text-align: right;\n",
       "    }\n",
       "</style>\n",
       "<table border=\"1\" class=\"dataframe\">\n",
       "  <thead>\n",
       "    <tr style=\"text-align: right;\">\n",
       "      <th></th>\n",
       "      <th>1</th>\n",
       "      <th>2</th>\n",
       "      <th>3</th>\n",
       "      <th>4</th>\n",
       "      <th>5</th>\n",
       "      <th>6</th>\n",
       "      <th>7</th>\n",
       "      <th>8</th>\n",
       "      <th>9</th>\n",
       "      <th>10</th>\n",
       "      <th>11</th>\n",
       "      <th>12</th>\n",
       "      <th>13</th>\n",
       "      <th>TARGET</th>\n",
       "    </tr>\n",
       "  </thead>\n",
       "  <tbody>\n",
       "    <tr>\n",
       "      <th>count</th>\n",
       "      <td>506.000000</td>\n",
       "      <td>506.000000</td>\n",
       "      <td>506.000000</td>\n",
       "      <td>506.000000</td>\n",
       "      <td>506.000000</td>\n",
       "      <td>506.000000</td>\n",
       "      <td>506.000000</td>\n",
       "      <td>506.000000</td>\n",
       "      <td>506.000000</td>\n",
       "      <td>506.000000</td>\n",
       "      <td>5.060000e+02</td>\n",
       "      <td>506.000000</td>\n",
       "      <td>506.000000</td>\n",
       "      <td>506.000000</td>\n",
       "    </tr>\n",
       "    <tr>\n",
       "      <th>mean</th>\n",
       "      <td>-0.918912</td>\n",
       "      <td>-0.772727</td>\n",
       "      <td>-0.217245</td>\n",
       "      <td>-0.861660</td>\n",
       "      <td>-0.301666</td>\n",
       "      <td>0.043738</td>\n",
       "      <td>0.352727</td>\n",
       "      <td>-0.515237</td>\n",
       "      <td>-0.256573</td>\n",
       "      <td>-0.155583</td>\n",
       "      <td>2.419056e-01</td>\n",
       "      <td>0.797136</td>\n",
       "      <td>-0.399158</td>\n",
       "      <td>22.532806</td>\n",
       "    </tr>\n",
       "    <tr>\n",
       "      <th>std</th>\n",
       "      <td>0.193359</td>\n",
       "      <td>0.466449</td>\n",
       "      <td>0.502958</td>\n",
       "      <td>0.507988</td>\n",
       "      <td>0.476863</td>\n",
       "      <td>0.269254</td>\n",
       "      <td>0.579791</td>\n",
       "      <td>0.382964</td>\n",
       "      <td>0.757153</td>\n",
       "      <td>0.643271</td>\n",
       "      <td>4.584192e-01</td>\n",
       "      <td>0.460411</td>\n",
       "      <td>0.389559</td>\n",
       "      <td>9.197104</td>\n",
       "    </tr>\n",
       "    <tr>\n",
       "      <th>min</th>\n",
       "      <td>-1.000000</td>\n",
       "      <td>-1.000000</td>\n",
       "      <td>-1.000000</td>\n",
       "      <td>-1.000000</td>\n",
       "      <td>-1.000000</td>\n",
       "      <td>-1.000000</td>\n",
       "      <td>-1.000000</td>\n",
       "      <td>-1.000000</td>\n",
       "      <td>-1.000000</td>\n",
       "      <td>-1.000000</td>\n",
       "      <td>-1.000000e+00</td>\n",
       "      <td>-1.000000</td>\n",
       "      <td>-1.000000</td>\n",
       "      <td>5.000000</td>\n",
       "    </tr>\n",
       "    <tr>\n",
       "      <th>25%</th>\n",
       "      <td>-0.998298</td>\n",
       "      <td>-1.000000</td>\n",
       "      <td>-0.653226</td>\n",
       "      <td>-1.000000</td>\n",
       "      <td>-0.736626</td>\n",
       "      <td>-0.109216</td>\n",
       "      <td>-0.132338</td>\n",
       "      <td>-0.823482</td>\n",
       "      <td>-0.739130</td>\n",
       "      <td>-0.648855</td>\n",
       "      <td>5.551125e-17</td>\n",
       "      <td>0.891459</td>\n",
       "      <td>-0.711920</td>\n",
       "      <td>17.025000</td>\n",
       "    </tr>\n",
       "    <tr>\n",
       "      <th>50%</th>\n",
       "      <td>-0.994376</td>\n",
       "      <td>-1.000000</td>\n",
       "      <td>-0.323314</td>\n",
       "      <td>-1.000000</td>\n",
       "      <td>-0.370370</td>\n",
       "      <td>0.014562</td>\n",
       "      <td>0.536560</td>\n",
       "      <td>-0.622103</td>\n",
       "      <td>-0.652174</td>\n",
       "      <td>-0.454198</td>\n",
       "      <td>3.617020e-01</td>\n",
       "      <td>0.972465</td>\n",
       "      <td>-0.468543</td>\n",
       "      <td>21.200000</td>\n",
       "    </tr>\n",
       "    <tr>\n",
       "      <th>75%</th>\n",
       "      <td>-0.917483</td>\n",
       "      <td>-0.750000</td>\n",
       "      <td>0.293255</td>\n",
       "      <td>-1.000000</td>\n",
       "      <td>-0.016461</td>\n",
       "      <td>0.173596</td>\n",
       "      <td>0.877961</td>\n",
       "      <td>-0.261823</td>\n",
       "      <td>1.000000</td>\n",
       "      <td>0.828244</td>\n",
       "      <td>6.170210e-01</td>\n",
       "      <td>0.996596</td>\n",
       "      <td>-0.159768</td>\n",
       "      <td>25.000000</td>\n",
       "    </tr>\n",
       "    <tr>\n",
       "      <th>max</th>\n",
       "      <td>1.000000</td>\n",
       "      <td>1.000000</td>\n",
       "      <td>1.000000</td>\n",
       "      <td>1.000000</td>\n",
       "      <td>1.000000</td>\n",
       "      <td>1.000000</td>\n",
       "      <td>1.000000</td>\n",
       "      <td>1.000000</td>\n",
       "      <td>1.000000</td>\n",
       "      <td>1.000000</td>\n",
       "      <td>8.297870e-01</td>\n",
       "      <td>1.000000</td>\n",
       "      <td>0.945364</td>\n",
       "      <td>50.000000</td>\n",
       "    </tr>\n",
       "  </tbody>\n",
       "</table>\n",
       "</div>"
      ],
      "text/plain": [
       "                1           2           3           4           5           6  \\\n",
       "count  506.000000  506.000000  506.000000  506.000000  506.000000  506.000000   \n",
       "mean    -0.918912   -0.772727   -0.217245   -0.861660   -0.301666    0.043738   \n",
       "std      0.193359    0.466449    0.502958    0.507988    0.476863    0.269254   \n",
       "min     -1.000000   -1.000000   -1.000000   -1.000000   -1.000000   -1.000000   \n",
       "25%     -0.998298   -1.000000   -0.653226   -1.000000   -0.736626   -0.109216   \n",
       "50%     -0.994376   -1.000000   -0.323314   -1.000000   -0.370370    0.014562   \n",
       "75%     -0.917483   -0.750000    0.293255   -1.000000   -0.016461    0.173596   \n",
       "max      1.000000    1.000000    1.000000    1.000000    1.000000    1.000000   \n",
       "\n",
       "                7           8           9          10            11  \\\n",
       "count  506.000000  506.000000  506.000000  506.000000  5.060000e+02   \n",
       "mean     0.352727   -0.515237   -0.256573   -0.155583  2.419056e-01   \n",
       "std      0.579791    0.382964    0.757153    0.643271  4.584192e-01   \n",
       "min     -1.000000   -1.000000   -1.000000   -1.000000 -1.000000e+00   \n",
       "25%     -0.132338   -0.823482   -0.739130   -0.648855  5.551125e-17   \n",
       "50%      0.536560   -0.622103   -0.652174   -0.454198  3.617020e-01   \n",
       "75%      0.877961   -0.261823    1.000000    0.828244  6.170210e-01   \n",
       "max      1.000000    1.000000    1.000000    1.000000  8.297870e-01   \n",
       "\n",
       "               12          13      TARGET  \n",
       "count  506.000000  506.000000  506.000000  \n",
       "mean     0.797136   -0.399158   22.532806  \n",
       "std      0.460411    0.389559    9.197104  \n",
       "min     -1.000000   -1.000000    5.000000  \n",
       "25%      0.891459   -0.711920   17.025000  \n",
       "50%      0.972465   -0.468543   21.200000  \n",
       "75%      0.996596   -0.159768   25.000000  \n",
       "max      1.000000    0.945364   50.000000  "
      ]
     },
     "execution_count": 5,
     "metadata": {},
     "output_type": "execute_result"
    }
   ],
   "source": [
    "# Gives a general idea of the data \n",
    "\n",
    "df.describe()"
   ]
  },
  {
   "cell_type": "code",
   "execution_count": 6,
   "metadata": {},
   "outputs": [
    {
     "name": "stdout",
     "output_type": "stream",
     "text": [
      "size of the inputs is: (506, 13)\n",
      "size of the target is: (506,)\n"
     ]
    }
   ],
   "source": [
    "# We load all the columns except the target as the X inputs and the Target Y as the outputs.\n",
    "\n",
    "newX = df.drop(\"TARGET\", axis = 1)\n",
    "print(\"size of the inputs is:\", newX.shape)  \n",
    "\n",
    "# These are the class labels  # pandas core frame\n",
    "\n",
    "newY = df[\"TARGET\"]\n",
    "print(\"size of the target is:\",newY.shape)           "
   ]
  },
  {
   "cell_type": "markdown",
   "metadata": {},
   "source": [
    "# QUESTION 1 : SOLUTION TO THE RIDGE REGRESSION AND LASSO"
   ]
  },
  {
   "cell_type": "markdown",
   "metadata": {},
   "source": [
    "### Ridge Regression\n",
    "\n",
    "Ridge Regression uses L2 Regualtion to regularize the regression.\n",
    "\n",
    "Ridge Regression is a technique for analyzing multiple regression data that suffer from multicollinearity. When\n",
    "multicollinearity occurs, least squares estimates are unbiased, but their variances are large so they may be far from the true value. By adding a degree of bias to the regression estimates, ridge regression reduces the standard errors.\n",
    "\n",
    "Notice that when the lambda value is zero, the solution is identical to ordinary least squares:"
   ]
  },
  {
   "cell_type": "code",
   "execution_count": 7,
   "metadata": {},
   "outputs": [
    {
     "name": "stdout",
     "output_type": "stream",
     "text": [
      "The optimal solution for the Ridge for alpha = 1000  are:\n",
      "[[-24.82217801]\n",
      " [ -2.46498409]\n",
      " [  2.77447353]\n",
      " [ -0.8616968 ]\n",
      " [  2.3917889 ]\n",
      " [ -1.29343499]\n",
      " [  3.03331311]\n",
      " [ -1.90237242]\n",
      " [  3.4422102 ]\n",
      " [  3.41473949]\n",
      " [  2.22050927]\n",
      " [ -1.03715351]\n",
      " [  2.19245893]] \n",
      "\n"
     ]
    }
   ],
   "source": [
    "\n",
    "\n",
    "def TheRidge(x,y, alpha):\n",
    "    \"\"\"\n",
    "    This function calculates the optimal solution of the Ridge regression problem\n",
    "    x : inputs as a mtrix\n",
    "    y : targets as a vector\n",
    "    alpha : regularization parameter\n",
    "    returns the optimal weights and the mean Squared error\n",
    "    \"\"\"\n",
    "    x = np.matrix(x)\n",
    "    y = np.matrix(y).transpose()\n",
    "    QTQ = x.transpose() * x\n",
    "    QTY = x.transpose() * y\n",
    "    alphaI = alpha * np.matrix(np.identity(len(QTQ)))\n",
    "    alphaI[0,0] = 0\n",
    "    beta = linalg.inv(QTQ - alphaI) * QTY\n",
    "    y_hat = np.dot(x, beta)\n",
    "    residuals = y_hat - y\n",
    "    SSE = residuals.transpose() * residuals\n",
    "    MSE = SSE/len(newX)\n",
    "    print(\"The optimal solution for the Ridge for alpha =\",alpha,\" are:\")\n",
    "    print(beta,\"\\n\")\n",
    "    #print(\"The MSE for alpha =\",alpha,\"is:\" , MSE)\n",
    "    \n",
    "alpha = 1000    \n",
    "ridge = TheRidge(newX, newY, alpha)\n"
   ]
  },
  {
   "cell_type": "markdown",
   "metadata": {},
   "source": [
    "### Lasso Regression\n",
    "\n",
    "Lasso Regression uses L1 Regualtion to regularize the regression.\n",
    "\n",
    "The consequence of L1 regularization is that when using the lasso, some coefficients are exactly zero. This means some features are entirely ignored by the model. This can be seen as a form of automatic feature selection. \n",
    "Having some coefficients be exactly zero often makes a model easier to interpret, and can reveal the most important features of your model.\n"
   ]
  },
  {
   "cell_type": "code",
   "execution_count": 8,
   "metadata": {},
   "outputs": [
    {
     "name": "stdout",
     "output_type": "stream",
     "text": [
      "The optimal solutions for Lasso are:\n",
      "-0.0\n",
      "0.0\n",
      "-0.0\n",
      "0.0\n",
      "-0.0\n",
      "0.0\n",
      "-0.0\n",
      "0.0\n",
      "-0.0\n",
      "-0.6368917487410626\n",
      "-0.0\n",
      "0.0\n",
      "-3.8853204319042174\n"
     ]
    }
   ],
   "source": [
    "n = newX.shape[0]    # number of training examples\n",
    "alpha = 1000 / n\n",
    "#lasso = Lasso(alpha, positive = True).fit(newX, newY)\n",
    "lasso = Lasso(alpha).fit(newX, newY)\n",
    "\n",
    "print(\"The optimal solutions for Lasso are:\")\n",
    "\n",
    "for i in lasso.coef_:\n",
    "    print(float(i))\n",
    "\n"
   ]
  },
  {
   "cell_type": "markdown",
   "metadata": {},
   "source": [
    "# QUESTION 2 : \n",
    "# TRAINING AND TESTING ERROR WITH DIFFERENT VALUES OF $\\lambda$\n",
    "\n",
    "#### Split the data into train and test sets\n",
    "\n",
    "We take the first 400 examples as training data and remaining 106 examples as testing data.\n",
    "We will first start with the ridge then work on the Lasso. "
   ]
  },
  {
   "cell_type": "code",
   "execution_count": 9,
   "metadata": {},
   "outputs": [
    {
     "name": "stdout",
     "output_type": "stream",
     "text": [
      "Training and testing split was successful!!!\n",
      "\n",
      "\n",
      "size of the training data is: (400, 13)\n",
      "size of the training class label is: (400,)\n",
      "size of the testing data is: (106, 13)\n",
      "size of the testing class label is: (106,)\n"
     ]
    }
   ],
   "source": [
    "# The ridge\n",
    "\n",
    "n = 400                     # number of training examples\n",
    "X_train = newX[:n]\n",
    "X_test = newX[n:]\n",
    "Y_train = newY[:n]\n",
    "Y_test = newY[n:]\n",
    "\n",
    "\n",
    "print(\"Training and testing split was successful!!!\")\n",
    "\n",
    "print(\"\\n\")\n",
    "\n",
    "print(\"size of the training data is:\", X_train.shape)\n",
    "print(\"size of the training class label is:\", Y_train.shape)\n",
    "print(\"size of the testing data is:\", X_test.shape)\n",
    "print(\"size of the testing class label is:\", Y_test.shape)"
   ]
  },
  {
   "cell_type": "markdown",
   "metadata": {},
   "source": [
    "## Ridge Regression"
   ]
  },
  {
   "cell_type": "code",
   "execution_count": 10,
   "metadata": {},
   "outputs": [
    {
     "name": "stdout",
     "output_type": "stream",
     "text": [
      "FOR THE TRAINING DATA\n",
      "The optimal solution for the Ridge for alpha = 0  are:\n",
      "[[-16.65415722]\n",
      " [  1.90281806]\n",
      " [  0.68016262]\n",
      " [  0.46619437]\n",
      " [ -4.02844654]\n",
      " [ 12.48246583]\n",
      " [  0.3081996 ]\n",
      " [ -8.16298104]\n",
      " [  6.06974301]\n",
      " [ -3.39182294]\n",
      " [ -4.07793512]\n",
      " [  2.00221865]\n",
      " [ -9.83772212]] \n",
      "\n",
      " \n",
      "The optimal solution for the Ridge for alpha = 0.01  are:\n",
      "[[-16.65389027]\n",
      " [  1.90383595]\n",
      " [  0.68241908]\n",
      " [  0.46574376]\n",
      " [ -4.0312386 ]\n",
      " [ 12.48589978]\n",
      " [  0.30816347]\n",
      " [ -8.16626141]\n",
      " [  6.07326576]\n",
      " [ -3.39535312]\n",
      " [ -4.07826418]\n",
      " [  2.00098148]\n",
      " [ -9.83829833]] \n",
      "\n",
      " \n",
      "The optimal solution for the Ridge for alpha = 0.1  are:\n",
      "[[-16.65166495]\n",
      " [  1.91306501]\n",
      " [  0.70289485]\n",
      " [  0.46165673]\n",
      " [ -4.05657698]\n",
      " [ 12.51694437]\n",
      " [  0.30782405]\n",
      " [ -8.19594448]\n",
      " [  6.1052634 ]\n",
      " [ -3.42742933]\n",
      " [ -4.08124782]\n",
      " [  1.98966068]\n",
      " [ -9.84339478]] \n",
      "\n",
      " \n",
      "The optimal solution for the Ridge for alpha = 1  are:\n",
      "[[-16.64938555]\n",
      " [  2.01262231]\n",
      " [  0.92577801]\n",
      " [  0.4173617 ]\n",
      " [ -4.33274722]\n",
      " [ 12.84213625]\n",
      " [  0.30291329]\n",
      " [ -8.50971946]\n",
      " [  6.45737977]\n",
      " [ -3.78152175]\n",
      " [ -4.11360695]\n",
      " [  1.85579987]\n",
      " [ -9.88435786]] \n",
      "\n",
      " \n",
      "The optimal solution for the Ridge for alpha = 10  are:\n",
      "[[-102.36771703]\n",
      " [ -37.36866621]\n",
      " [ -39.01392272]\n",
      " [   3.48194329]\n",
      " [  -4.79902742]\n",
      " [ 258.71991655]\n",
      " [ -59.4231975 ]\n",
      " [ -12.01863885]\n",
      " [ -92.94109601]\n",
      " [ 143.1327497 ]\n",
      " [  13.65095594]\n",
      " [ -34.03269941]\n",
      " [ 175.93577366]] \n",
      "\n",
      " \n",
      "The optimal solution for the Ridge for alpha = 100  are:\n",
      "[[-61.57971085]\n",
      " [ -2.6073241 ]\n",
      " [  1.98372407]\n",
      " [ 33.23243285]\n",
      " [-10.66927509]\n",
      " [-13.77789571]\n",
      " [-14.94834392]\n",
      " [ 13.53659215]\n",
      " [  2.35697285]\n",
      " [  1.42532174]\n",
      " [ 31.19049774]\n",
      " [ -1.23180379]\n",
      " [  9.47931814]] \n",
      "\n",
      " \n",
      "The optimal solution for the Ridge for alpha = 1000  are:\n",
      "[[-25.54769143]\n",
      " [ -0.73835109]\n",
      " [  0.72897478]\n",
      " [ -0.27590478]\n",
      " [  0.56608136]\n",
      " [ -0.83999039]\n",
      " [  0.7359614 ]\n",
      " [ -0.20620422]\n",
      " [  0.1722105 ]\n",
      " [  0.42528669]\n",
      " [  0.79189949]\n",
      " [ -0.14251392]\n",
      " [  0.98612925]] \n",
      "\n",
      " \n"
     ]
    }
   ],
   "source": [
    "print(\"FOR THE TRAINING DATA\")\n",
    "\n",
    "from sklearn.linear_model import Ridge\n",
    "\n",
    "\n",
    "\n",
    "lambda_settings = [0, 0.01, 0.1, 1, 10, 100, 1000]\n",
    "\n",
    "\n",
    "for alpha in lambda_settings: \n",
    "                   \n",
    "    # build the model\n",
    "    ridge = TheRidge(X_train, Y_train, alpha)\n",
    "    print(\" \")\n"
   ]
  },
  {
   "cell_type": "code",
   "execution_count": 11,
   "metadata": {},
   "outputs": [
    {
     "name": "stdout",
     "output_type": "stream",
     "text": [
      "FOR THE TESTING DATA \n",
      "\n",
      "The Optimal solutions for alpha = 0 are [-8.59678634  2.06429812  0.85349614  0.84693769 -3.65239073 12.80822745\n",
      "  0.19909808 -7.1344806   5.52508025 -4.05358326 -3.8801391  -0.29741976\n",
      " -9.81042243]\n",
      " \n",
      "The Optimal solutions for alpha = 0.01 are [-8.57355351  2.06317554  0.85098359  0.84788629 -3.64919832 12.80306277\n",
      "  0.19948902 -7.13075729  5.51841965 -4.05033874 -3.87975376 -0.29519911\n",
      " -9.81219195]\n",
      " \n",
      "The Optimal solutions for alpha = 0.1 are [-8.36986746  2.05318716  0.82861115  0.85628382 -3.62084361 12.75719412\n",
      "  0.20285612 -7.09759854  5.45954899 -4.02140935 -3.87636613 -0.27552565\n",
      " -9.82733682]\n",
      " \n",
      "The Optimal solutions for alpha = 1 are [-6.75734892  1.96315816  0.62572036  0.92891256 -3.36905793 12.34795578\n",
      "  0.22475677 -6.79534106  4.95804362 -3.7567604  -3.8488385  -0.10543843\n",
      " -9.91764752]\n",
      " \n",
      "The Optimal solutions for alpha = 10 are [-2.31616451  1.50593808 -0.43795355  1.26164756 -2.14494404  9.96521667\n",
      "  0.14349288 -4.9891854   2.86766036 -2.39267775 -3.73490173  0.51758494\n",
      " -9.22838294]\n",
      " \n",
      "The Optimal solutions for alpha = 100 are [-0.43251577  1.05999706 -1.23270078  1.28115106 -0.85553545  4.05443682\n",
      " -0.51413413 -1.28357446  0.3433269  -1.03861212 -2.60407855  0.39776194\n",
      " -4.27413222]\n",
      " \n",
      "The Optimal solutions for alpha = 1000 are [-0.09701067  0.4001625  -0.45514088  0.27690852 -0.33809155  0.68077756\n",
      " -0.37852802  0.02207901 -0.20727487 -0.37779079 -0.60804027  0.08482352\n",
      " -0.79512127]\n",
      " \n"
     ]
    }
   ],
   "source": [
    "print(\"FOR THE TESTING DATA \\n\")\n",
    "from sklearn.linear_model import Ridge\n",
    "\n",
    "\n",
    "test_accuracy = []\n",
    "\n",
    "\n",
    "for alpha in lambda_settings:\n",
    "    \n",
    "    # build the model   \n",
    "    ridge = Ridge(alpha).fit(X_test, Y_test)\n",
    "    \n",
    "    # record generalization accuracy\n",
    "    test_accuracy.append(ridge.score(X_test, Y_test))\n",
    "    \n",
    "    print(\"The Optimal solutions for alpha =\",alpha,\"are\",ridge.coef_ )\n",
    "    print(\" \")\n",
    "\n",
    "\n",
    "    \n",
    "#print(\"Testing Accuracy\")  \n",
    "#for i in test_accuracy:\n",
    "    #print(i)    \n",
    "    "
   ]
  },
  {
   "cell_type": "markdown",
   "metadata": {},
   "source": [
    "## To calculate the Mean Squared error on the training and testing data"
   ]
  },
  {
   "cell_type": "code",
   "execution_count": 12,
   "metadata": {},
   "outputs": [
    {
     "name": "stdout",
     "output_type": "stream",
     "text": [
      "MSE:  65.42863216395239\n",
      "RMSE:  8.088796706800856\n"
     ]
    }
   ],
   "source": [
    "# We make preduictions first\n",
    "predictions = ridge.predict(X_test)\n",
    "print('MSE: ',metrics.mean_squared_error(Y_test, predictions))\n",
    "print('RMSE: ',np.sqrt(metrics.mean_squared_error(Y_test, predictions)))"
   ]
  },
  {
   "cell_type": "markdown",
   "metadata": {},
   "source": [
    "## Plotting the RMSE curves for the different values of lambda"
   ]
  },
  {
   "cell_type": "code",
   "execution_count": 13,
   "metadata": {},
   "outputs": [],
   "source": [
    "# calculating the errors for all the lambda values\n",
    "from sklearn.linear_model import Ridge\n",
    "\n",
    "MSEs = []\n",
    "RMSEs = []\n",
    "\n",
    "training_accuracy = []\n",
    "test_accuracy = []\n",
    "\n",
    "TR_accuracy = []\n",
    "TE_accuracy = []\n",
    "\n",
    "\n",
    "for alpha in lambda_settings:\n",
    "    \n",
    "    # build the model \n",
    "    ridge = Ridge(alpha)\n",
    "    ridge.fit(X_train, Y_train)\n",
    "    predictions = ridge.predict(X_test)\n",
    "    \n",
    "    MSEs.append(metrics.mean_squared_error(Y_test, predictions))\n",
    "    RMSEs.append(np.sqrt(metrics.mean_squared_error(Y_test, predictions)))\n",
    "    \n",
    "    # record training accuracy\n",
    "    TR_accuracy.append((alpha, ridge.score(X_train, Y_train)))\n",
    "    training_accuracy.append( ridge.score(X_train, Y_train))\n",
    "    \n",
    "    # record generalization accuracy\n",
    "    TE_accuracy.append((alpha, ridge.score(X_test, Y_test)))\n",
    "    test_accuracy.append( ridge.score(X_test, Y_test))"
   ]
  },
  {
   "cell_type": "code",
   "execution_count": 14,
   "metadata": {},
   "outputs": [
    {
     "name": "stderr",
     "output_type": "stream",
     "text": [
      "/anaconda3/lib/python3.6/site-packages/ipykernel_launcher.py:3: RuntimeWarning: divide by zero encountered in log\n",
      "  This is separate from the ipykernel package so we can avoid doing imports until\n",
      "/anaconda3/lib/python3.6/site-packages/ipykernel_launcher.py:5: RuntimeWarning: divide by zero encountered in log\n",
      "  \"\"\"\n"
     ]
    },
    {
     "data": {
      "text/plain": [
       "<matplotlib.legend.Legend at 0x10cb8da20>"
      ]
     },
     "execution_count": 14,
     "metadata": {},
     "output_type": "execute_result"
    },
    {
     "data": {
      "image/png": "[encoded data removed]",
      "text/plain": [
       "<Figure size 432x288 with 1 Axes>"
      ]
     },
     "metadata": {
      "needs_background": "light"
     },
     "output_type": "display_data"
    }
   ],
   "source": []
  },
  {
   "cell_type": "code",
   "execution_count": 15,
   "metadata": {},
   "outputs": [
    {
     "name": "stdout",
     "output_type": "stream",
     "text": [
      "Training Accuracy\n",
      "for alpha = 0 : 0.7400622234052615\n",
      "for alpha = 0.01 : 0.740062121454276\n",
      "for alpha = 0.1 : 0.7400523716587837\n",
      "for alpha = 1 : 0.7393273442861921\n",
      "for alpha = 10 : 0.7180887202569366\n",
      "for alpha = 100 : 0.507040661257711\n",
      "for alpha = 1000 : 0.16198975612805444\n",
      " \n",
      "Testing Accuracy\n",
      "for alpha = 0 : -0.3086210863391594\n",
      "for alpha = 0.01 : -0.3070162730047419\n",
      "for alpha = 0.1 : -0.2929687922587423\n",
      "for alpha = 1 : -0.18243660892045566\n",
      "for alpha = 10 : 0.1554375448284402\n",
      "for alpha = 100 : 0.12267944973861156\n",
      "for alpha = 1000 : -1.3154564020464705\n"
     ]
    }
   ],
   "source": [
    "print(\"Training Accuracy\") \n",
    "for i in TR_accuracy:\n",
    "    print(\"for alpha =\", i[0],\":\",i[1])   \n",
    "    \n",
    "\n",
    "print(\" \")\n",
    "\n",
    "print(\"Testing Accuracy\")\n",
    "for i in TE_accuracy:\n",
    "    print(\"for alpha =\", i[0],\":\", i[1])    \n"
   ]
  },
  {
   "cell_type": "code",
   "execution_count": 16,
   "metadata": {},
   "outputs": [
    {
     "name": "stderr",
     "output_type": "stream",
     "text": [
      "/anaconda3/lib/python3.6/site-packages/ipykernel_launcher.py:3: RuntimeWarning: divide by zero encountered in log\n",
      "  This is separate from the ipykernel package so we can avoid doing imports until\n",
      "/anaconda3/lib/python3.6/site-packages/ipykernel_launcher.py:5: RuntimeWarning: divide by zero encountered in log\n",
      "  \"\"\"\n"
     ]
    },
    {
     "data": {
      "text/plain": [
       "<matplotlib.legend.Legend at 0x10d90d518>"
      ]
     },
     "execution_count": 16,
     "metadata": {},
     "output_type": "execute_result"
    },
    {
     "data": {
      "image/png": "[encoded data removed]",
      "text/plain": [
       "<Figure size 432x288 with 1 Axes>"
      ]
     },
     "metadata": {
      "needs_background": "light"
     },
     "output_type": "display_data"
    }
   ],
   "source": [
    "# Plotting the accuracy values\n",
    "\n",
    "plt.plot(np.log(np.array(lambda_settings)),\n",
    "         training_accuracy, label = \"Training accuracy\", marker = '*', markersize = 5 )\n",
    "plt.plot(np.log(np.array(lambda_settings)),\n",
    "        test_accuracy, label = \"Test accuracy\", marker = 'd', markersize = 6)\n",
    "plt.ylabel(\"Accuracy\")\n",
    "plt.xlabel(\"lambda logs\")\n",
    "plt.legend()"
   ]
  },
  {
   "cell_type": "markdown",
   "metadata": {},
   "source": [
    "# Lasso Regression"
   ]
  },
  {
   "cell_type": "code",
   "execution_count": 17,
   "metadata": {},
   "outputs": [
    {
     "name": "stdout",
     "output_type": "stream",
     "text": [
      "FOR THE DATA \n",
      "\n",
      "The Optimal solutions for alpha = 0 are [-8.59678634  2.06429812  0.85349614  0.84693769 -3.65239073 12.80822745\n",
      "  0.19909808 -7.1344806   5.52508025 -4.05358326 -3.8801391  -0.29741976\n",
      " -9.81042243]\n",
      " \n",
      "The Optimal solutions for alpha = 0.01 are [-8.59400164  2.06390952  0.85274859  0.84701593 -3.65127959 12.80804394\n",
      "  0.19883694 -7.1338846   5.52371235 -4.05257307 -3.87990976 -0.29638876\n",
      " -9.81045858]\n",
      " \n",
      "The Optimal solutions for alpha = 0.1 are [-8.56896847  2.0605277   0.84585482  0.8477135  -3.64123871 12.80619876\n",
      "  0.19658815 -7.12865977  5.51144877 -4.04352451 -3.87780234 -0.28712507\n",
      " -9.81089684]\n",
      " \n",
      "The Optimal solutions for alpha = 1 are [-8.3177473   2.02573634  0.7783301   0.85475923 -3.54043194 12.78921117\n",
      "  0.17336631 -7.07477715  5.38810867 -3.95274052 -3.8569543  -0.19401396\n",
      " -9.81474175]\n",
      " \n",
      "The Optimal solutions for alpha = 10 are [-5.81164952  1.68681064  0.08910307  0.91943331 -2.70404909 12.6836447\n",
      "  0.         -6.54578117  4.24212914 -3.1007476  -3.62982441  0.\n",
      " -9.84029713]\n",
      " \n",
      "The Optimal solutions for alpha = 100 are [-0.          0.         -0.          0.7231384  -0.         12.20132945\n",
      "  0.         -1.14356359  0.         -0.         -2.64236846  0.\n",
      " -9.31411234]\n",
      " \n",
      "The Optimal solutions for alpha = 1000 are [-0.  0. -0.  0. -0.  0. -0.  0. -0. -0. -0.  0. -0.]\n",
      " \n"
     ]
    },
    {
     "name": "stderr",
     "output_type": "stream",
     "text": [
      "/anaconda3/lib/python3.6/site-packages/ipykernel_launcher.py:10: UserWarning: With alpha=0, this algorithm does not converge well. You are advised to use the LinearRegression estimator\n",
      "  # Remove the CWD from sys.path while we load stuff.\n",
      "/anaconda3/lib/python3.6/site-packages/sklearn/linear_model/coordinate_descent.py:478: UserWarning: Coordinate descent with no regularization may lead to unexpected results and is discouraged.\n",
      "  positive)\n",
      "/anaconda3/lib/python3.6/site-packages/sklearn/linear_model/coordinate_descent.py:492: ConvergenceWarning: Objective did not converge. You might want to increase the number of iterations. Fitting data with very small alpha may cause precision problems.\n",
      "  ConvergenceWarning)\n"
     ]
    }
   ],
   "source": [
    "print(\"FOR THE DATA \\n\")\n",
    "\n",
    "test_accuracy = []\n",
    "\n",
    "\n",
    "for alpha in lambda_settings:\n",
    "    alpha2 = alpha / n\n",
    "    \n",
    "    # build the model   \n",
    "    lasso = Lasso(alpha2).fit(X_train, Y_train)\n",
    "    \n",
    "    # record generalization accuracy\n",
    "    test_accuracy.append(lasso.score(X_test, Y_test))\n",
    "    \n",
    "    print(\"The Optimal solutions for alpha =\",alpha,\"are\",lasso.coef_ )\n",
    "    print(\" \")\n",
    "\n",
    "\n",
    "    \n",
    "#print(\"Testing Accuracy\")  \n",
    "#for i in test_accuracy:\n",
    "    #print(i)    \n",
    "    "
   ]
  },
  {
   "cell_type": "code",
   "execution_count": 18,
   "metadata": {},
   "outputs": [
    {
     "name": "stdout",
     "output_type": "stream",
     "text": [
      "MSE:  102.22658647641512\n",
      "RMSE:  10.110716417564836\n"
     ]
    }
   ],
   "source": [
    "# We make preduictions first\n",
    "\n",
    "predictions = lasso.predict(X_test)\n",
    "print('MSE: ',metrics.mean_squared_error(Y_test, predictions))\n",
    "print('RMSE: ',np.sqrt(metrics.mean_squared_error(Y_test, predictions)))"
   ]
  },
  {
   "cell_type": "code",
   "execution_count": 19,
   "metadata": {},
   "outputs": [
    {
     "name": "stderr",
     "output_type": "stream",
     "text": [
      "/anaconda3/lib/python3.6/site-packages/ipykernel_launcher.py:21: UserWarning: With alpha=0, this algorithm does not converge well. You are advised to use the LinearRegression estimator\n",
      "/anaconda3/lib/python3.6/site-packages/sklearn/linear_model/coordinate_descent.py:478: UserWarning: Coordinate descent with no regularization may lead to unexpected results and is discouraged.\n",
      "  positive)\n",
      "/anaconda3/lib/python3.6/site-packages/sklearn/linear_model/coordinate_descent.py:492: ConvergenceWarning: Objective did not converge. You might want to increase the number of iterations. Fitting data with very small alpha may cause precision problems.\n",
      "  ConvergenceWarning)\n"
     ]
    }
   ],
   "source": [
    "# calculating the errors for all the lambda values\n",
    "\n",
    "n = 400\n",
    "MSEs = []\n",
    "RMSEs = []\n",
    "\n",
    "training_accuracy = []\n",
    "test_accuracy = []\n",
    "\n",
    "TR_accuracy = []\n",
    "TE_accuracy = []\n",
    "\n",
    "# try alpha from 0 to 1000\n",
    "alpha_settings = [0, 0.01, 0.1, 1, 10, 100, 1000]\n",
    "\n",
    "for alpha in alpha_settings:\n",
    "    alpha2 = alpha / n\n",
    "    \n",
    "    # build the model\n",
    "    lasso = Lasso(alpha2, max_iter = 10000000)\n",
    "    lasso.fit(X_train, Y_train)\n",
    "    \n",
    "    predictions = lasso.predict(X_test)\n",
    "    \n",
    "    MSEs.append(metrics.mean_squared_error(Y_test, predictions))\n",
    "    RMSEs.append(np.sqrt(metrics.mean_squared_error(Y_test, predictions)))\n",
    "    \n",
    "    \n",
    "    # record training accuracy\n",
    "    training_accuracy.append(lasso.score(X_train, Y_train))\n",
    "    TR_accuracy.append((alpha,lasso.score(X_train, Y_train)))\n",
    "    \n",
    "    # record generalization accuracy\n",
    "    test_accuracy.append(lasso.score(X_test, Y_test))\n",
    "    TE_accuracy.append((alpha,lasso.score(X_test, Y_test)))\n"
   ]
  },
  {
   "cell_type": "code",
   "execution_count": 20,
   "metadata": {},
   "outputs": [
    {
     "name": "stdout",
     "output_type": "stream",
     "text": [
      "Training Accuracy\n",
      "for alpha = 0 : 0.7400622234052616\n",
      "for alpha = 0.01 : 0.7400622205359673\n",
      "for alpha = 0.1 : 0.7400619373787123\n",
      "for alpha = 1 : 0.7400334247552917\n",
      "for alpha = 10 : 0.7376408113610479\n",
      "for alpha = 100 : 0.6819326074238766\n",
      "for alpha = 1000 : 0.0\n",
      " \n",
      "Testing Accuracy\n",
      "for alpha = 0 : -0.308621086339663\n",
      "for alpha = 0.01 : -0.30827822941861815\n",
      "for alpha = 0.1 : -0.30519604407269973\n",
      "for alpha = 1 : -0.27476948614761487\n",
      "for alpha = 10 : -0.14993942486347156\n",
      "for alpha = 100 : -0.06294799657102845\n",
      "for alpha = 1000 : -2.6177006348389167\n"
     ]
    }
   ],
   "source": [
    "print(\"Training Accuracy\") \n",
    "for i in TR_accuracy:\n",
    "    print(\"for alpha =\", i[0],\":\",i[1])   \n",
    "    \n",
    "\n",
    "print(\" \")\n",
    "\n",
    "print(\"Testing Accuracy\")\n",
    "for i in TE_accuracy:\n",
    "    print(\"for alpha =\", i[0],\":\", i[1])    "
   ]
  },
  {
   "cell_type": "code",
   "execution_count": 21,
   "metadata": {},
   "outputs": [
    {
     "name": "stderr",
     "output_type": "stream",
     "text": [
      "/anaconda3/lib/python3.6/site-packages/ipykernel_launcher.py:3: RuntimeWarning: divide by zero encountered in log\n",
      "  This is separate from the ipykernel package so we can avoid doing imports until\n",
      "/anaconda3/lib/python3.6/site-packages/ipykernel_launcher.py:5: RuntimeWarning: divide by zero encountered in log\n",
      "  \"\"\"\n"
     ]
    },
    {
     "data": {
      "text/plain": [
       "<matplotlib.legend.Legend at 0x10d99e550>"
      ]
     },
     "execution_count": 21,
     "metadata": {},
     "output_type": "execute_result"
    },
    {
     "data": {
      "image/png": "[encoded data removed]",
      "text/plain": [
       "<Figure size 432x288 with 1 Axes>"
      ]
     },
     "metadata": {
      "needs_background": "light"
     },
     "output_type": "display_data"
    }
   ],
   "source": [
    "# Plot the accuracy values\n",
    "\n",
    "plt.plot(np.log(np.array(lambda_settings)),\n",
    "         RMSEs, label = \"RMSE\", marker = '*', markersize = 5)\n",
    "plt.plot(np.log(np.array(lambda_settings)),\n",
    "        lambda_settings, label = \"lambda\", marker = 'd', markersize = 6)\n",
    "\n",
    "plt.ylabel(\"lambda\")\n",
    "plt.xlabel(\"RMSE\")\n",
    "plt.legend()"
   ]
  },
  {
   "cell_type": "code",
   "execution_count": 22,
   "metadata": {},
   "outputs": [
    {
     "name": "stderr",
     "output_type": "stream",
     "text": [
      "/anaconda3/lib/python3.6/site-packages/ipykernel_launcher.py:3: RuntimeWarning: divide by zero encountered in log\n",
      "  This is separate from the ipykernel package so we can avoid doing imports until\n",
      "/anaconda3/lib/python3.6/site-packages/ipykernel_launcher.py:5: RuntimeWarning: divide by zero encountered in log\n",
      "  \"\"\"\n"
     ]
    },
    {
     "data": {
      "text/plain": [
       "<matplotlib.legend.Legend at 0x125371c18>"
      ]
     },
     "execution_count": 22,
     "metadata": {},
     "output_type": "execute_result"
    },
    {
     "data": {
      "image/png": "[encoded data removed]",
      "text/plain": [
       "<Figure size 432x288 with 1 Axes>"
      ]
     },
     "metadata": {
      "needs_background": "light"
     },
     "output_type": "display_data"
    }
   ],
   "source": [
    "# Plotting the accuracy values\n",
    "\n",
    "plt.plot(np.log(np.array(lambda_settings)),\n",
    "         training_accuracy, label = \"training accuracy\", marker = '*', markersize = 5 )\n",
    "plt.plot(np.log(np.array(lambda_settings)),\n",
    "        test_accuracy, label = \"test accuracy\", marker = 'd', markersize = 6)\n",
    "plt.ylabel(\"Accuracy\")\n",
    "plt.xlabel(\"lambda logs\")\n",
    "plt.legend()"
   ]
  },
  {
   "cell_type": "markdown",
   "metadata": {},
   "source": [
    "# QUESTION 3 : CROSS VALIDATION"
   ]
  },
  {
   "cell_type": "code",
   "execution_count": 31,
   "metadata": {},
   "outputs": [
    {
     "name": "stderr",
     "output_type": "stream",
     "text": [
      "/anaconda3/lib/python3.6/site-packages/sklearn/model_selection/_validation.py:528: UserWarning: With alpha=0, this algorithm does not converge well. You are advised to use the LinearRegression estimator\n",
      "  estimator.fit(X_train, y_train, **fit_params)\n",
      "/anaconda3/lib/python3.6/site-packages/sklearn/linear_model/coordinate_descent.py:478: UserWarning: Coordinate descent with no regularization may lead to unexpected results and is discouraged.\n",
      "  positive)\n",
      "/anaconda3/lib/python3.6/site-packages/sklearn/linear_model/coordinate_descent.py:492: ConvergenceWarning: Objective did not converge. You might want to increase the number of iterations. Fitting data with very small alpha may cause precision problems.\n",
      "  ConvergenceWarning)\n",
      "/anaconda3/lib/python3.6/site-packages/sklearn/model_selection/_validation.py:528: UserWarning: With alpha=0, this algorithm does not converge well. You are advised to use the LinearRegression estimator\n",
      "  estimator.fit(X_train, y_train, **fit_params)\n",
      "/anaconda3/lib/python3.6/site-packages/sklearn/linear_model/coordinate_descent.py:478: UserWarning: Coordinate descent with no regularization may lead to unexpected results and is discouraged.\n",
      "  positive)\n",
      "/anaconda3/lib/python3.6/site-packages/sklearn/linear_model/coordinate_descent.py:492: ConvergenceWarning: Objective did not converge. You might want to increase the number of iterations. Fitting data with very small alpha may cause precision problems.\n",
      "  ConvergenceWarning)\n",
      "/anaconda3/lib/python3.6/site-packages/sklearn/model_selection/_validation.py:528: UserWarning: With alpha=0, this algorithm does not converge well. You are advised to use the LinearRegression estimator\n",
      "  estimator.fit(X_train, y_train, **fit_params)\n",
      "/anaconda3/lib/python3.6/site-packages/sklearn/linear_model/coordinate_descent.py:478: UserWarning: Coordinate descent with no regularization may lead to unexpected results and is discouraged.\n",
      "  positive)\n",
      "/anaconda3/lib/python3.6/site-packages/sklearn/linear_model/coordinate_descent.py:492: ConvergenceWarning: Objective did not converge. You might want to increase the number of iterations. Fitting data with very small alpha may cause precision problems.\n",
      "  ConvergenceWarning)\n",
      "/anaconda3/lib/python3.6/site-packages/sklearn/model_selection/_validation.py:528: UserWarning: With alpha=0, this algorithm does not converge well. You are advised to use the LinearRegression estimator\n",
      "  estimator.fit(X_train, y_train, **fit_params)\n",
      "/anaconda3/lib/python3.6/site-packages/sklearn/linear_model/coordinate_descent.py:478: UserWarning: Coordinate descent with no regularization may lead to unexpected results and is discouraged.\n",
      "  positive)\n",
      "/anaconda3/lib/python3.6/site-packages/sklearn/linear_model/coordinate_descent.py:492: ConvergenceWarning: Objective did not converge. You might want to increase the number of iterations. Fitting data with very small alpha may cause precision problems.\n",
      "  ConvergenceWarning)\n",
      "/anaconda3/lib/python3.6/site-packages/sklearn/model_selection/_validation.py:528: UserWarning: With alpha=0, this algorithm does not converge well. You are advised to use the LinearRegression estimator\n",
      "  estimator.fit(X_train, y_train, **fit_params)\n",
      "/anaconda3/lib/python3.6/site-packages/sklearn/linear_model/coordinate_descent.py:478: UserWarning: Coordinate descent with no regularization may lead to unexpected results and is discouraged.\n",
      "  positive)\n",
      "/anaconda3/lib/python3.6/site-packages/sklearn/linear_model/coordinate_descent.py:492: ConvergenceWarning: Objective did not converge. You might want to increase the number of iterations. Fitting data with very small alpha may cause precision problems.\n",
      "  ConvergenceWarning)\n"
     ]
    },
    {
     "name": "stdout",
     "output_type": "stream",
     "text": [
      "The best lambda value for Lasso is: 0.1\n",
      "The best score is: -39.1411095171568\n",
      " \n",
      "MSE:  31.22078090273648\n",
      "RMSE:  5.587555897057002\n"
     ]
    }
   ],
   "source": [
    "# We use Grid search cross validation function to find the best lambda value.\n",
    "# We work on the training examples only\n",
    "\n",
    "lasso = Lasso()\n",
    "\n",
    "parameters = {'alpha': [0, 0.01, 0.1, 1, 10, 100, 1000]}\n",
    "\n",
    "lasso_regressor = GridSearchCV(lasso, parameters, scoring = 'neg_mean_squared_error', cv = 5, verbose = 0)\n",
    "\n",
    "lasso_regressor.fit(X_train, Y_train)\n",
    "\n",
    "\n",
    "# print out the best lambda value for the model\n",
    "\n",
    "\n",
    "print(\"The best lambda value for Lasso is:\", lasso_regressor.best_params_['alpha'])\n",
    "print(\"The best score is:\",lasso_regressor.best_score_)\n",
    "\n",
    "print(\" \")\n",
    "\n",
    "predictions = lasso_regressor.predict(X_test)\n",
    "print('MSE: ',metrics.mean_squared_error(Y_test, predictions))\n",
    "print('RMSE: ',np.sqrt(metrics.mean_squared_error(Y_test, predictions)))\n"
   ]
  },
  {
   "cell_type": "code",
   "execution_count": 37,
   "metadata": {},
   "outputs": [
    {
     "name": "stdout",
     "output_type": "stream",
     "text": [
      "The best lambda value for Ridge is: 10\n",
      "The best score is: -33.26075791951155\n",
      " \n",
      "MSE:  23.865086023673488\n",
      "RMSE:  4.885190479773894\n"
     ]
    }
   ],
   "source": [
    "from sklearn.linear_model import Ridge\n",
    "\n",
    "\n",
    "Ridge = Ridge()\n",
    "\n",
    "parameters = {'alpha': [0, 0.01, 0.1, 1, 10, 100, 1000]}\n",
    "\n",
    "Ridge_regressor = GridSearchCV(Ridge, parameters, scoring = 'neg_mean_squared_error', cv = 5)\n",
    "\n",
    "Ridge_regressor.fit(X_train, Y_train)\n",
    "\n",
    "# print out the best lambda value for the model\n",
    "\n",
    "print(\"The best lambda value for Ridge is:\", Ridge_regressor.best_params_['alpha'])\n",
    "print(\"The best score is:\",Ridge_regressor.best_score_)\n",
    "\n",
    "print(\" \")\n",
    "\n",
    "predictions = Ridge_regressor.predict(X_test)\n",
    "print('MSE: ',metrics.mean_squared_error(Y_test, predictions))\n",
    "print('RMSE: ',np.sqrt(metrics.mean_squared_error(Y_test, predictions)))\n"
   ]
  },
  {
   "cell_type": "markdown",
   "metadata": {},
   "source": [
    "# QUESTION 4 : NONSCALED BOSTON HOUSING DATA"
   ]
  },
  {
   "cell_type": "markdown",
   "metadata": {},
   "source": [
    "### Preprocessing the data\n",
    "\n",
    "    We load the file\n",
    "    Remove all the unwated charachets of the form \"digit:\"\n",
    "    We write our new transformed data into a new file\n",
    "    We load the data into a pandas DataFrame\n",
    "    We change all column data types to float for ease of manipulation\n",
    "    We label the output column as the target\n",
    "    \n",
    "    "
   ]
  },
  {
   "cell_type": "code",
   "execution_count": 78,
   "metadata": {},
   "outputs": [
    {
     "data": {
      "text/plain": [
       "42307"
      ]
     },
     "execution_count": 78,
     "metadata": {},
     "output_type": "execute_result"
    }
   ],
   "source": [
    "# Loading file and transforming the data\n",
    "\n",
    "file = open(\"house.txt\")\n",
    "file = file.read()\n",
    "\n",
    "\n",
    "f.close()\n",
    "\n",
    "# Removing the \"digit:\" characters from the txt file\n",
    "\n",
    "file = file.replace(\"1:\", \"\").replace(\"2:\", \"\").replace(\"3:\", \"\")\n",
    "file = file.replace(\"4:\", \"\").replace(\"5:\", \"\").replace(\"6:\", \"\")\n",
    "file = file.replace(\"7:\", \"\").replace(\"8:\", \"\").replace(\"9:\", \"\")\n",
    "file = file.replace(\"10:\", \"\").replace(\"13:\", \"\")\n",
    "\n",
    "# writing the transformed text to a new txt file\n",
    "    \n",
    "f = open(\"YAAAAY.txt\", \"w\")\n",
    "\n",
    "f.write(file)\n",
    "\n",
    "\n",
    "\n"
   ]
  },
  {
   "cell_type": "code",
   "execution_count": 85,
   "metadata": {},
   "outputs": [],
   "source": [
    "df = pd.read_csv('YAAAAY.txt', sep = \" \", header = None)\n",
    "#df = df.drop([14], axis = 1)\n",
    " \n",
    "# removing unwanted digits from some of the columns of the dataframe and \n",
    "# converting the elements of each column from strings to floats\n",
    "# We also replace all the NaN values by zeros\n",
    "\n",
    "\n"
   ]
  },
  {
   "cell_type": "code",
   "execution_count": 86,
   "metadata": {},
   "outputs": [
    {
     "data": {
      "text/html": [
       "<div>\n",
       "<style scoped>\n",
       "    .dataframe tbody tr th:only-of-type {\n",
       "        vertical-align: middle;\n",
       "    }\n",
       "\n",
       "    .dataframe tbody tr th {\n",
       "        vertical-align: top;\n",
       "    }\n",
       "\n",
       "    .dataframe thead th {\n",
       "        text-align: right;\n",
       "    }\n",
       "</style>\n",
       "<table border=\"1\" class=\"dataframe\">\n",
       "  <thead>\n",
       "    <tr style=\"text-align: right;\">\n",
       "      <th></th>\n",
       "      <th>0</th>\n",
       "      <th>1</th>\n",
       "      <th>2</th>\n",
       "      <th>3</th>\n",
       "      <th>4</th>\n",
       "      <th>5</th>\n",
       "      <th>6</th>\n",
       "      <th>7</th>\n",
       "      <th>8</th>\n",
       "      <th>9</th>\n",
       "      <th>10</th>\n",
       "      <th>11</th>\n",
       "      <th>12</th>\n",
       "      <th>13</th>\n",
       "    </tr>\n",
       "  </thead>\n",
       "  <tbody>\n",
       "    <tr>\n",
       "      <th>0</th>\n",
       "      <td>24.0</td>\n",
       "      <td>0.00632</td>\n",
       "      <td>18.0</td>\n",
       "      <td>2.31</td>\n",
       "      <td>0</td>\n",
       "      <td>0.538</td>\n",
       "      <td>6.575</td>\n",
       "      <td>65.2</td>\n",
       "      <td>4.0900</td>\n",
       "      <td>1</td>\n",
       "      <td>296.0</td>\n",
       "      <td>115.3</td>\n",
       "      <td>1396.90</td>\n",
       "      <td>14.98</td>\n",
       "    </tr>\n",
       "    <tr>\n",
       "      <th>1</th>\n",
       "      <td>21.6</td>\n",
       "      <td>0.02731</td>\n",
       "      <td>0.0</td>\n",
       "      <td>7.07</td>\n",
       "      <td>0</td>\n",
       "      <td>0.469</td>\n",
       "      <td>6.421</td>\n",
       "      <td>78.9</td>\n",
       "      <td>4.9671</td>\n",
       "      <td>2</td>\n",
       "      <td>242.0</td>\n",
       "      <td>117.8</td>\n",
       "      <td>1396.90</td>\n",
       "      <td>19.14</td>\n",
       "    </tr>\n",
       "    <tr>\n",
       "      <th>2</th>\n",
       "      <td>34.7</td>\n",
       "      <td>0.02729</td>\n",
       "      <td>0.0</td>\n",
       "      <td>7.07</td>\n",
       "      <td>0</td>\n",
       "      <td>0.469</td>\n",
       "      <td>7.185</td>\n",
       "      <td>61.1</td>\n",
       "      <td>4.9671</td>\n",
       "      <td>2</td>\n",
       "      <td>242.0</td>\n",
       "      <td>117.8</td>\n",
       "      <td>1392.83</td>\n",
       "      <td>14.03</td>\n",
       "    </tr>\n",
       "    <tr>\n",
       "      <th>3</th>\n",
       "      <td>33.4</td>\n",
       "      <td>0.03237</td>\n",
       "      <td>0.0</td>\n",
       "      <td>2.18</td>\n",
       "      <td>0</td>\n",
       "      <td>0.458</td>\n",
       "      <td>6.998</td>\n",
       "      <td>45.8</td>\n",
       "      <td>6.0622</td>\n",
       "      <td>3</td>\n",
       "      <td>222.0</td>\n",
       "      <td>118.7</td>\n",
       "      <td>1394.63</td>\n",
       "      <td>12.94</td>\n",
       "    </tr>\n",
       "    <tr>\n",
       "      <th>4</th>\n",
       "      <td>36.2</td>\n",
       "      <td>0.06905</td>\n",
       "      <td>0.0</td>\n",
       "      <td>2.18</td>\n",
       "      <td>0</td>\n",
       "      <td>0.458</td>\n",
       "      <td>7.147</td>\n",
       "      <td>54.2</td>\n",
       "      <td>6.0622</td>\n",
       "      <td>3</td>\n",
       "      <td>222.0</td>\n",
       "      <td>118.7</td>\n",
       "      <td>1396.90</td>\n",
       "      <td>15.33</td>\n",
       "    </tr>\n",
       "  </tbody>\n",
       "</table>\n",
       "</div>"
      ],
      "text/plain": [
       "     0        1     2     3   4      5      6     7       8   9      10  \\\n",
       "0  24.0  0.00632  18.0  2.31   0  0.538  6.575  65.2  4.0900   1  296.0   \n",
       "1  21.6  0.02731   0.0  7.07   0  0.469  6.421  78.9  4.9671   2  242.0   \n",
       "2  34.7  0.02729   0.0  7.07   0  0.469  7.185  61.1  4.9671   2  242.0   \n",
       "3  33.4  0.03237   0.0  2.18   0  0.458  6.998  45.8  6.0622   3  222.0   \n",
       "4  36.2  0.06905   0.0  2.18   0  0.458  7.147  54.2  6.0622   3  222.0   \n",
       "\n",
       "      11       12     13  \n",
       "0  115.3  1396.90  14.98  \n",
       "1  117.8  1396.90  19.14  \n",
       "2  117.8  1392.83  14.03  \n",
       "3  118.7  1394.63  12.94  \n",
       "4  118.7  1396.90  15.33  "
      ]
     },
     "execution_count": 86,
     "metadata": {},
     "output_type": "execute_result"
    }
   ],
   "source": [
    "df.head()"
   ]
  },
  {
   "cell_type": "code",
   "execution_count": 89,
   "metadata": {},
   "outputs": [],
   "source": [
    "df[\"TARGET\"] = df[0]\n",
    "df = df.drop([0], axis = 1)\n",
    "\n",
    "\n"
   ]
  },
  {
   "cell_type": "code",
   "execution_count": null,
   "metadata": {},
   "outputs": [],
   "source": [
    "df[1] = df[1].astype(float)\n",
    "df[2] = df[2].astype(float)\n",
    "df[3] = df[3].astype(float)\n",
    "df[4] = df[4].astype(float)\n",
    "df[5] = df[5].astype(float)\n",
    "df[6] = df[6].astype(float)\n",
    "df[7] = df[7].astype(float)\n",
    "df[8] = df[8].astype(float)\n",
    "df[9] = df[9].astype(float)\n",
    "df[10] = df[10].astype(float)\n",
    "df[11] = pd.to_numeric(df[11]).fillna(0.0)\n",
    "df[12] = df[12].astype(float)\n",
    "df[13] = pd.to_numeric(df[13]).fillna(0.0)\n",
    "df[\"TARGET\"] = df[\"TARGET\"].astype(float)"
   ]
  },
  {
   "cell_type": "code",
   "execution_count": 90,
   "metadata": {},
   "outputs": [
    {
     "data": {
      "text/html": [
       "<div>\n",
       "<style scoped>\n",
       "    .dataframe tbody tr th:only-of-type {\n",
       "        vertical-align: middle;\n",
       "    }\n",
       "\n",
       "    .dataframe tbody tr th {\n",
       "        vertical-align: top;\n",
       "    }\n",
       "\n",
       "    .dataframe thead th {\n",
       "        text-align: right;\n",
       "    }\n",
       "</style>\n",
       "<table border=\"1\" class=\"dataframe\">\n",
       "  <thead>\n",
       "    <tr style=\"text-align: right;\">\n",
       "      <th></th>\n",
       "      <th>1</th>\n",
       "      <th>2</th>\n",
       "      <th>3</th>\n",
       "      <th>4</th>\n",
       "      <th>5</th>\n",
       "      <th>6</th>\n",
       "      <th>7</th>\n",
       "      <th>8</th>\n",
       "      <th>9</th>\n",
       "      <th>10</th>\n",
       "      <th>11</th>\n",
       "      <th>12</th>\n",
       "      <th>13</th>\n",
       "      <th>TARGET</th>\n",
       "    </tr>\n",
       "  </thead>\n",
       "  <tbody>\n",
       "    <tr>\n",
       "      <th>0</th>\n",
       "      <td>0.00632</td>\n",
       "      <td>18.0</td>\n",
       "      <td>2.31</td>\n",
       "      <td>0</td>\n",
       "      <td>0.538</td>\n",
       "      <td>6.575</td>\n",
       "      <td>65.2</td>\n",
       "      <td>4.0900</td>\n",
       "      <td>1</td>\n",
       "      <td>296.0</td>\n",
       "      <td>115.3</td>\n",
       "      <td>1396.90</td>\n",
       "      <td>14.98</td>\n",
       "      <td>24.0</td>\n",
       "    </tr>\n",
       "    <tr>\n",
       "      <th>1</th>\n",
       "      <td>0.02731</td>\n",
       "      <td>0.0</td>\n",
       "      <td>7.07</td>\n",
       "      <td>0</td>\n",
       "      <td>0.469</td>\n",
       "      <td>6.421</td>\n",
       "      <td>78.9</td>\n",
       "      <td>4.9671</td>\n",
       "      <td>2</td>\n",
       "      <td>242.0</td>\n",
       "      <td>117.8</td>\n",
       "      <td>1396.90</td>\n",
       "      <td>19.14</td>\n",
       "      <td>21.6</td>\n",
       "    </tr>\n",
       "    <tr>\n",
       "      <th>2</th>\n",
       "      <td>0.02729</td>\n",
       "      <td>0.0</td>\n",
       "      <td>7.07</td>\n",
       "      <td>0</td>\n",
       "      <td>0.469</td>\n",
       "      <td>7.185</td>\n",
       "      <td>61.1</td>\n",
       "      <td>4.9671</td>\n",
       "      <td>2</td>\n",
       "      <td>242.0</td>\n",
       "      <td>117.8</td>\n",
       "      <td>1392.83</td>\n",
       "      <td>14.03</td>\n",
       "      <td>34.7</td>\n",
       "    </tr>\n",
       "    <tr>\n",
       "      <th>3</th>\n",
       "      <td>0.03237</td>\n",
       "      <td>0.0</td>\n",
       "      <td>2.18</td>\n",
       "      <td>0</td>\n",
       "      <td>0.458</td>\n",
       "      <td>6.998</td>\n",
       "      <td>45.8</td>\n",
       "      <td>6.0622</td>\n",
       "      <td>3</td>\n",
       "      <td>222.0</td>\n",
       "      <td>118.7</td>\n",
       "      <td>1394.63</td>\n",
       "      <td>12.94</td>\n",
       "      <td>33.4</td>\n",
       "    </tr>\n",
       "    <tr>\n",
       "      <th>4</th>\n",
       "      <td>0.06905</td>\n",
       "      <td>0.0</td>\n",
       "      <td>2.18</td>\n",
       "      <td>0</td>\n",
       "      <td>0.458</td>\n",
       "      <td>7.147</td>\n",
       "      <td>54.2</td>\n",
       "      <td>6.0622</td>\n",
       "      <td>3</td>\n",
       "      <td>222.0</td>\n",
       "      <td>118.7</td>\n",
       "      <td>1396.90</td>\n",
       "      <td>15.33</td>\n",
       "      <td>36.2</td>\n",
       "    </tr>\n",
       "  </tbody>\n",
       "</table>\n",
       "</div>"
      ],
      "text/plain": [
       "         1     2     3  4      5      6     7       8  9     10     11  \\\n",
       "0  0.00632  18.0  2.31  0  0.538  6.575  65.2  4.0900  1  296.0  115.3   \n",
       "1  0.02731   0.0  7.07  0  0.469  6.421  78.9  4.9671  2  242.0  117.8   \n",
       "2  0.02729   0.0  7.07  0  0.469  7.185  61.1  4.9671  2  242.0  117.8   \n",
       "3  0.03237   0.0  2.18  0  0.458  6.998  45.8  6.0622  3  222.0  118.7   \n",
       "4  0.06905   0.0  2.18  0  0.458  7.147  54.2  6.0622  3  222.0  118.7   \n",
       "\n",
       "        12     13  TARGET  \n",
       "0  1396.90  14.98    24.0  \n",
       "1  1396.90  19.14    21.6  \n",
       "2  1392.83  14.03    34.7  \n",
       "3  1394.63  12.94    33.4  \n",
       "4  1396.90  15.33    36.2  "
      ]
     },
     "execution_count": 90,
     "metadata": {},
     "output_type": "execute_result"
    }
   ],
   "source": [
    "df.head()"
   ]
  },
  {
   "cell_type": "markdown",
   "metadata": {},
   "source": [
    "### We create inputs and outputs and then split the data into train and test sets"
   ]
  },
  {
   "cell_type": "code",
   "execution_count": 91,
   "metadata": {},
   "outputs": [
    {
     "name": "stdout",
     "output_type": "stream",
     "text": [
      "size of the inputs is: (506, 13)\n",
      "size of the target is: (506,)\n",
      "\n",
      "\n",
      "Training and testing split was successful!!!\n",
      "\n",
      "\n",
      "size of the training data is: (400, 13)\n",
      "size of the training class label is: (400,)\n",
      "size of the testing data is: (106, 13)\n",
      "size of the testing class label is: (106,)\n"
     ]
    }
   ],
   "source": [
    "# We load all the columns except the target as the X inputs and the Target Y as the outputs.\n",
    "\n",
    "newX = df.drop(\"TARGET\", axis = 1)\n",
    "print(\"size of the inputs is:\", newX.shape)  \n",
    "\n",
    "# These are the class labels  # pandas core frame\n",
    "\n",
    "newY = df[\"TARGET\"]\n",
    "print(\"size of the target is:\",newY.shape)  \n",
    "\n",
    "\n",
    "n = 400                     # number of training examples\n",
    "X_train = newX[:n]\n",
    "X_test = newX[n:]\n",
    "Y_train = newY[:n]\n",
    "Y_test = newY[n:]\n",
    "\n",
    "\n",
    "print(\"\\n\")\n",
    "\n",
    "\n",
    "print(\"Training and testing split was successful!!!\")\n",
    "\n",
    "print(\"\\n\")\n",
    "\n",
    "print(\"size of the training data is:\", X_train.shape)\n",
    "print(\"size of the training class label is:\", Y_train.shape)\n",
    "print(\"size of the testing data is:\", X_test.shape)\n",
    "print(\"size of the testing class label is:\", Y_test.shape)"
   ]
  },
  {
   "cell_type": "code",
   "execution_count": 92,
   "metadata": {},
   "outputs": [
    {
     "name": "stderr",
     "output_type": "stream",
     "text": [
      "/anaconda3/lib/python3.6/site-packages/sklearn/model_selection/_validation.py:528: UserWarning: With alpha=0, this algorithm does not converge well. You are advised to use the LinearRegression estimator\n",
      "  estimator.fit(X_train, y_train, **fit_params)\n",
      "/anaconda3/lib/python3.6/site-packages/sklearn/linear_model/coordinate_descent.py:478: UserWarning: Coordinate descent with no regularization may lead to unexpected results and is discouraged.\n",
      "  positive)\n",
      "/anaconda3/lib/python3.6/site-packages/sklearn/linear_model/coordinate_descent.py:492: ConvergenceWarning: Objective did not converge. You might want to increase the number of iterations. Fitting data with very small alpha may cause precision problems.\n",
      "  ConvergenceWarning)\n",
      "/anaconda3/lib/python3.6/site-packages/sklearn/model_selection/_validation.py:528: UserWarning: With alpha=0, this algorithm does not converge well. You are advised to use the LinearRegression estimator\n",
      "  estimator.fit(X_train, y_train, **fit_params)\n",
      "/anaconda3/lib/python3.6/site-packages/sklearn/linear_model/coordinate_descent.py:478: UserWarning: Coordinate descent with no regularization may lead to unexpected results and is discouraged.\n",
      "  positive)\n",
      "/anaconda3/lib/python3.6/site-packages/sklearn/linear_model/coordinate_descent.py:492: ConvergenceWarning: Objective did not converge. You might want to increase the number of iterations. Fitting data with very small alpha may cause precision problems.\n",
      "  ConvergenceWarning)\n",
      "/anaconda3/lib/python3.6/site-packages/sklearn/model_selection/_validation.py:528: UserWarning: With alpha=0, this algorithm does not converge well. You are advised to use the LinearRegression estimator\n",
      "  estimator.fit(X_train, y_train, **fit_params)\n",
      "/anaconda3/lib/python3.6/site-packages/sklearn/linear_model/coordinate_descent.py:478: UserWarning: Coordinate descent with no regularization may lead to unexpected results and is discouraged.\n",
      "  positive)\n",
      "/anaconda3/lib/python3.6/site-packages/sklearn/linear_model/coordinate_descent.py:492: ConvergenceWarning: Objective did not converge. You might want to increase the number of iterations. Fitting data with very small alpha may cause precision problems.\n",
      "  ConvergenceWarning)\n",
      "/anaconda3/lib/python3.6/site-packages/sklearn/model_selection/_validation.py:528: UserWarning: With alpha=0, this algorithm does not converge well. You are advised to use the LinearRegression estimator\n",
      "  estimator.fit(X_train, y_train, **fit_params)\n",
      "/anaconda3/lib/python3.6/site-packages/sklearn/linear_model/coordinate_descent.py:478: UserWarning: Coordinate descent with no regularization may lead to unexpected results and is discouraged.\n",
      "  positive)\n",
      "/anaconda3/lib/python3.6/site-packages/sklearn/linear_model/coordinate_descent.py:492: ConvergenceWarning: Objective did not converge. You might want to increase the number of iterations. Fitting data with very small alpha may cause precision problems.\n",
      "  ConvergenceWarning)\n",
      "/anaconda3/lib/python3.6/site-packages/sklearn/model_selection/_validation.py:528: UserWarning: With alpha=0, this algorithm does not converge well. You are advised to use the LinearRegression estimator\n",
      "  estimator.fit(X_train, y_train, **fit_params)\n",
      "/anaconda3/lib/python3.6/site-packages/sklearn/linear_model/coordinate_descent.py:478: UserWarning: Coordinate descent with no regularization may lead to unexpected results and is discouraged.\n",
      "  positive)\n",
      "/anaconda3/lib/python3.6/site-packages/sklearn/linear_model/coordinate_descent.py:492: ConvergenceWarning: Objective did not converge. You might want to increase the number of iterations. Fitting data with very small alpha may cause precision problems.\n",
      "  ConvergenceWarning)\n"
     ]
    },
    {
     "name": "stdout",
     "output_type": "stream",
     "text": [
      "The best lambda value for Lasso is: 1\n",
      "The best score is: -46.05559350354067\n",
      " \n",
      "MSE:  22.751501809506546\n",
      "RMSE:  4.76985343689998\n"
     ]
    }
   ],
   "source": [
    "# We use Grid search cross validation function to find the best lambda value.\n",
    "# We work on the training examples only\n",
    "\n",
    "\n",
    "lasso = Lasso()\n",
    "\n",
    "parameters = {'alpha': [0, 0.01, 0.1, 1, 10, 100, 1000]}\n",
    "\n",
    "lasso_regressor = GridSearchCV(lasso, parameters, scoring = 'neg_mean_squared_error', cv = 5, verbose = 0)\n",
    "\n",
    "lasso_regressor.fit(X_train, Y_train)\n",
    "\n",
    "\n",
    "# print out the best lambda value for the model\n",
    "\n",
    "\n",
    "print(\"The best lambda value for Lasso is:\", lasso_regressor.best_params_['alpha'])\n",
    "print(\"The best score is:\",lasso_regressor.best_score_)\n",
    "\n",
    "print(\" \")\n",
    "\n",
    "predictions = lasso_regressor.predict(X_test)\n",
    "print('MSE: ',metrics.mean_squared_error(Y_test, predictions))\n",
    "print('RMSE: ',np.sqrt(metrics.mean_squared_error(Y_test, predictions)))\n"
   ]
  },
  {
   "cell_type": "code",
   "execution_count": null,
   "metadata": {},
   "outputs": [],
   "source": []
  },
  {
   "cell_type": "code",
   "execution_count": 93,
   "metadata": {},
   "outputs": [
    {
     "name": "stdout",
     "output_type": "stream",
     "text": [
      "The best lambda value for Ridge is: 100\n",
      "The best score is: -39.086189967485595\n",
      " \n",
      "MSE:  24.026459561939443\n",
      "RMSE:  4.901679259390545\n"
     ]
    }
   ],
   "source": [
    "# Ridge\n",
    "\n",
    "from sklearn.linear_model import Ridge\n",
    "\n",
    "\n",
    "Ridge = Ridge()\n",
    "\n",
    "parameters = {'alpha': [0, 0.01, 0.1, 1, 10, 100, 1000]}\n",
    "\n",
    "Ridge_regressor = GridSearchCV(Ridge, parameters, scoring = 'neg_mean_squared_error', cv = 5)\n",
    "\n",
    "Ridge_regressor.fit(X_train, Y_train)\n",
    "\n",
    "# print out the best lambda value for the model\n",
    "\n",
    "print(\"The best lambda value for Ridge is:\", Ridge_regressor.best_params_['alpha'])\n",
    "print(\"The best score is:\",Ridge_regressor.best_score_)\n",
    "\n",
    "print(\" \")\n",
    "\n",
    "predictions = Ridge_regressor.predict(X_test)\n",
    "print('MSE: ',metrics.mean_squared_error(Y_test, predictions))\n",
    "print('RMSE: ',np.sqrt(metrics.mean_squared_error(Y_test, predictions)))\n"
   ]
  }
 ],
 "metadata": {
  "kernelspec": {
   "display_name": "Python 3",
   "language": "python",
   "name": "python3"
  },
  "language_info": {
   "codemirror_mode": {
    "name": "ipython",
    "version": 3
   },
   "file_extension": ".py",
   "mimetype": "text/x-python",
   "name": "python",
   "nbconvert_exporter": "python",
   "pygments_lexer": "ipython3",
   "version": "3.6.6"
  }
 },
 "nbformat": 4,
 "nbformat_minor": 2
}
