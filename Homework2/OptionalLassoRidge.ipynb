{
 "cells": [
  {
   "cell_type": "markdown",
   "metadata": {},
   "source": [
    "=================================================================================================================\n",
    "\n",
    "# MACHINE LEARNING\n",
    "\n",
    "## HOMEWORK 2\n",
    "\n",
    "### VIOLET TIEMA\n",
    "\n",
    "### February 2019\n",
    "\n",
    "\n",
    "================================================================================================================="
   ]
  },
  {
   "cell_type": "markdown",
   "metadata": {},
   "source": [
    "# PROBLEM 5\n",
    "\n",
    "## WARNING! This takes FOREVER to run.\n",
    "\n",
    "## Loading input file into a pandas dataFrame \n"
   ]
  },
  {
   "cell_type": "code",
   "execution_count": 17,
   "metadata": {},
   "outputs": [],
   "source": [
    "import numpy as np\n",
    "from pandas import *\n",
    "import pandas as pd\n",
    "from numpy import linalg\n",
    "from sklearn.svm import SVR\n",
    "from sklearn import metrics\n",
    "import matplotlib.pyplot as plt\n",
    "from sklearn.linear_model import Ridge\n",
    "from sklearn.linear_model import Lasso\n",
    "from sklearn.model_selection import KFold\n",
    "from sklearn.model_selection import GridSearchCV\n",
    "from sklearn.metrics import mean_squared_error\n",
    "from sklearn.model_selection import cross_val_score"
   ]
  },
  {
   "cell_type": "code",
   "execution_count": 12,
   "metadata": {},
   "outputs": [],
   "source": [
    "\n",
    "df = pd.read_csv(\"GENE_feature_matrix.txt\", sep = \" \", header = None)\n"
   ]
  },
  {
   "cell_type": "code",
   "execution_count": 13,
   "metadata": {},
   "outputs": [
    {
     "data": {
      "text/html": [
       "<div>\n",
       "<style scoped>\n",
       "    .dataframe tbody tr th:only-of-type {\n",
       "        vertical-align: middle;\n",
       "    }\n",
       "\n",
       "    .dataframe tbody tr th {\n",
       "        vertical-align: top;\n",
       "    }\n",
       "\n",
       "    .dataframe thead th {\n",
       "        text-align: right;\n",
       "    }\n",
       "</style>\n",
       "<table border=\"1\" class=\"dataframe\">\n",
       "  <thead>\n",
       "    <tr style=\"text-align: right;\">\n",
       "      <th></th>\n",
       "      <th>0</th>\n",
       "      <th>1</th>\n",
       "      <th>2</th>\n",
       "      <th>3</th>\n",
       "      <th>4</th>\n",
       "      <th>5</th>\n",
       "      <th>6</th>\n",
       "      <th>7</th>\n",
       "      <th>8</th>\n",
       "      <th>9</th>\n",
       "      <th>...</th>\n",
       "      <th>17312</th>\n",
       "      <th>17313</th>\n",
       "      <th>17314</th>\n",
       "      <th>17315</th>\n",
       "      <th>17316</th>\n",
       "      <th>17317</th>\n",
       "      <th>17318</th>\n",
       "      <th>17319</th>\n",
       "      <th>17320</th>\n",
       "      <th>17321</th>\n",
       "    </tr>\n",
       "  </thead>\n",
       "  <tbody>\n",
       "    <tr>\n",
       "      <th>0</th>\n",
       "      <td>-1.44775</td>\n",
       "      <td>0.015375</td>\n",
       "      <td>2.4105</td>\n",
       "      <td>0.949333</td>\n",
       "      <td>0.539167</td>\n",
       "      <td>0.24200</td>\n",
       "      <td>0.4235</td>\n",
       "      <td>-0.12600</td>\n",
       "      <td>1.128000</td>\n",
       "      <td>0.2645</td>\n",
       "      <td>...</td>\n",
       "      <td>-0.3660</td>\n",
       "      <td>-0.58450</td>\n",
       "      <td>0.68825</td>\n",
       "      <td>-1.30975</td>\n",
       "      <td>-0.74775</td>\n",
       "      <td>-2.08975</td>\n",
       "      <td>0.2630</td>\n",
       "      <td>1.37800</td>\n",
       "      <td>0.2610</td>\n",
       "      <td>-0.30225</td>\n",
       "    </tr>\n",
       "    <tr>\n",
       "      <th>1</th>\n",
       "      <td>-2.29950</td>\n",
       "      <td>0.466938</td>\n",
       "      <td>0.3635</td>\n",
       "      <td>0.279833</td>\n",
       "      <td>-1.534667</td>\n",
       "      <td>1.03850</td>\n",
       "      <td>0.3715</td>\n",
       "      <td>0.52275</td>\n",
       "      <td>0.926500</td>\n",
       "      <td>0.1650</td>\n",
       "      <td>...</td>\n",
       "      <td>0.0105</td>\n",
       "      <td>1.00675</td>\n",
       "      <td>0.58025</td>\n",
       "      <td>-1.17775</td>\n",
       "      <td>-0.69250</td>\n",
       "      <td>-1.23225</td>\n",
       "      <td>-1.9370</td>\n",
       "      <td>0.54400</td>\n",
       "      <td>-0.1445</td>\n",
       "      <td>-0.68175</td>\n",
       "    </tr>\n",
       "    <tr>\n",
       "      <th>2</th>\n",
       "      <td>-1.94400</td>\n",
       "      <td>-0.029562</td>\n",
       "      <td>1.8550</td>\n",
       "      <td>0.748667</td>\n",
       "      <td>-1.304833</td>\n",
       "      <td>1.16050</td>\n",
       "      <td>0.3575</td>\n",
       "      <td>0.53725</td>\n",
       "      <td>1.026500</td>\n",
       "      <td>0.5970</td>\n",
       "      <td>...</td>\n",
       "      <td>-0.2230</td>\n",
       "      <td>0.93950</td>\n",
       "      <td>0.16950</td>\n",
       "      <td>-1.22900</td>\n",
       "      <td>-0.71975</td>\n",
       "      <td>-0.12275</td>\n",
       "      <td>-0.7775</td>\n",
       "      <td>0.48625</td>\n",
       "      <td>-0.4770</td>\n",
       "      <td>-0.87650</td>\n",
       "    </tr>\n",
       "    <tr>\n",
       "      <th>3</th>\n",
       "      <td>-2.09800</td>\n",
       "      <td>0.791937</td>\n",
       "      <td>1.4080</td>\n",
       "      <td>0.750000</td>\n",
       "      <td>-1.357833</td>\n",
       "      <td>1.67775</td>\n",
       "      <td>0.5185</td>\n",
       "      <td>0.21500</td>\n",
       "      <td>1.728833</td>\n",
       "      <td>0.5515</td>\n",
       "      <td>...</td>\n",
       "      <td>-0.6780</td>\n",
       "      <td>1.00350</td>\n",
       "      <td>0.33750</td>\n",
       "      <td>-1.02825</td>\n",
       "      <td>-0.90950</td>\n",
       "      <td>0.22900</td>\n",
       "      <td>-0.6065</td>\n",
       "      <td>0.53275</td>\n",
       "      <td>-0.5940</td>\n",
       "      <td>-1.37675</td>\n",
       "    </tr>\n",
       "    <tr>\n",
       "      <th>4</th>\n",
       "      <td>-1.28500</td>\n",
       "      <td>-0.191125</td>\n",
       "      <td>-1.3005</td>\n",
       "      <td>-0.547167</td>\n",
       "      <td>-2.184500</td>\n",
       "      <td>-0.85975</td>\n",
       "      <td>0.3060</td>\n",
       "      <td>0.63425</td>\n",
       "      <td>-0.582667</td>\n",
       "      <td>-0.0815</td>\n",
       "      <td>...</td>\n",
       "      <td>1.4865</td>\n",
       "      <td>0.23825</td>\n",
       "      <td>0.29125</td>\n",
       "      <td>0.88175</td>\n",
       "      <td>-1.16800</td>\n",
       "      <td>-1.40375</td>\n",
       "      <td>0.7025</td>\n",
       "      <td>-0.67550</td>\n",
       "      <td>0.3050</td>\n",
       "      <td>-1.30925</td>\n",
       "    </tr>\n",
       "  </tbody>\n",
       "</table>\n",
       "<p>5 rows × 17322 columns</p>\n",
       "</div>"
      ],
      "text/plain": [
       "     0         1       2         3         4        5       6        7      \\\n",
       "0 -1.44775  0.015375  2.4105  0.949333  0.539167  0.24200  0.4235 -0.12600   \n",
       "1 -2.29950  0.466938  0.3635  0.279833 -1.534667  1.03850  0.3715  0.52275   \n",
       "2 -1.94400 -0.029562  1.8550  0.748667 -1.304833  1.16050  0.3575  0.53725   \n",
       "3 -2.09800  0.791937  1.4080  0.750000 -1.357833  1.67775  0.5185  0.21500   \n",
       "4 -1.28500 -0.191125 -1.3005 -0.547167 -2.184500 -0.85975  0.3060  0.63425   \n",
       "\n",
       "      8       9       ...      17312    17313    17314    17315    17316  \\\n",
       "0  1.128000  0.2645   ...    -0.3660 -0.58450  0.68825 -1.30975 -0.74775   \n",
       "1  0.926500  0.1650   ...     0.0105  1.00675  0.58025 -1.17775 -0.69250   \n",
       "2  1.026500  0.5970   ...    -0.2230  0.93950  0.16950 -1.22900 -0.71975   \n",
       "3  1.728833  0.5515   ...    -0.6780  1.00350  0.33750 -1.02825 -0.90950   \n",
       "4 -0.582667 -0.0815   ...     1.4865  0.23825  0.29125  0.88175 -1.16800   \n",
       "\n",
       "     17317   17318    17319   17320    17321  \n",
       "0 -2.08975  0.2630  1.37800  0.2610 -0.30225  \n",
       "1 -1.23225 -1.9370  0.54400 -0.1445 -0.68175  \n",
       "2 -0.12275 -0.7775  0.48625 -0.4770 -0.87650  \n",
       "3  0.22900 -0.6065  0.53275 -0.5940 -1.37675  \n",
       "4 -1.40375  0.7025 -0.67550  0.3050 -1.30925  \n",
       "\n",
       "[5 rows x 17322 columns]"
      ]
     },
     "execution_count": 13,
     "metadata": {},
     "output_type": "execute_result"
    }
   ],
   "source": [
    "df.head()"
   ]
  },
  {
   "cell_type": "markdown",
   "metadata": {},
   "source": [
    "## Loading target file into a pandas dataFrame \n"
   ]
  },
  {
   "cell_type": "code",
   "execution_count": 15,
   "metadata": {},
   "outputs": [
    {
     "data": {
      "text/html": [
       "<div>\n",
       "<style scoped>\n",
       "    .dataframe tbody tr th:only-of-type {\n",
       "        vertical-align: middle;\n",
       "    }\n",
       "\n",
       "    .dataframe tbody tr th {\n",
       "        vertical-align: top;\n",
       "    }\n",
       "\n",
       "    .dataframe thead th {\n",
       "        text-align: right;\n",
       "    }\n",
       "</style>\n",
       "<table border=\"1\" class=\"dataframe\">\n",
       "  <thead>\n",
       "    <tr style=\"text-align: right;\">\n",
       "      <th></th>\n",
       "      <th>0</th>\n",
       "    </tr>\n",
       "  </thead>\n",
       "  <tbody>\n",
       "    <tr>\n",
       "      <th>0</th>\n",
       "      <td>-1.661083</td>\n",
       "    </tr>\n",
       "    <tr>\n",
       "      <th>1</th>\n",
       "      <td>-1.387917</td>\n",
       "    </tr>\n",
       "    <tr>\n",
       "      <th>2</th>\n",
       "      <td>-1.924833</td>\n",
       "    </tr>\n",
       "    <tr>\n",
       "      <th>3</th>\n",
       "      <td>-1.656250</td>\n",
       "    </tr>\n",
       "    <tr>\n",
       "      <th>4</th>\n",
       "      <td>-0.358250</td>\n",
       "    </tr>\n",
       "  </tbody>\n",
       "</table>\n",
       "</div>"
      ],
      "text/plain": [
       "          0\n",
       "0 -1.661083\n",
       "1 -1.387917\n",
       "2 -1.924833\n",
       "3 -1.656250\n",
       "4 -0.358250"
      ]
     },
     "execution_count": 15,
     "metadata": {},
     "output_type": "execute_result"
    }
   ],
   "source": [
    "df2 = pd.read_csv(\"GENE_response.txt\", sep = \" \", header = None)\n",
    "\n",
    "\n",
    "df2.head()"
   ]
  },
  {
   "cell_type": "code",
   "execution_count": 21,
   "metadata": {},
   "outputs": [
    {
     "name": "stdout",
     "output_type": "stream",
     "text": [
      "size of the inputs is: (536, 17322)\n",
      "size of the target is: (536, 1)\n"
     ]
    }
   ],
   "source": [
    "# We load all the columns except the target as the X inputs and the Target Y as the outputs.\n",
    "\n",
    "newX = df\n",
    "print(\"size of the inputs is:\", newX.shape)  \n",
    "\n",
    "# These are the class labels  # pandas core frame\n",
    "\n",
    "newY = df2\n",
    "print(\"size of the target is:\",newY.shape)           "
   ]
  },
  {
   "cell_type": "markdown",
   "metadata": {},
   "source": [
    "### The exact solution for the ridge"
   ]
  },
  {
   "cell_type": "code",
   "execution_count": null,
   "metadata": {},
   "outputs": [],
   "source": [
    "\n",
    "\n",
    "def TheRidge(x,y, alpha):\n",
    "    \"\"\"\n",
    "    This function calculates the optimal solution of the Ridge regression problem\n",
    "    x : inputs as a mtrix\n",
    "    y : targets as a vector\n",
    "    alpha : regularization parameter\n",
    "    returns the optimal weights and the mean Squared error\n",
    "    \"\"\"\n",
    "    x = np.matrix(x)\n",
    "    y = np.matrix(y).transpose()\n",
    "    QTQ = x.transpose() * x\n",
    "    QTY = x.transpose() * y\n",
    "    alphaI = alpha * np.matrix(np.identity(len(QTQ)))\n",
    "    alphaI[0,0] = 0\n",
    "    beta = linalg.inv(QTQ - alphaI) * QTY\n",
    "    y_hat = np.dot(x, beta)\n",
    "    residuals = y_hat - y\n",
    "    SSE = residuals.transpose() * residuals\n",
    "    MSE = SSE/len(newX)\n",
    "    print(\"The optimal solution for the Ridge for alpha =\",alpha,\" are:\")\n",
    "    print(beta,\"\\n\")\n",
    "    #print(\"The MSE for alpha =\",alpha,\"is:\" , MSE)\n",
    "    \n",
    "alpha = 1000    \n",
    "ridge = TheRidge(newX, newY, alpha)"
   ]
  },
  {
   "cell_type": "code",
   "execution_count": 20,
   "metadata": {},
   "outputs": [
    {
     "name": "stdout",
     "output_type": "stream",
     "text": [
      "The optimal solution for alpha = 1000 is:\n",
      "[ 1.06627880e-03  8.39921914e-04 -1.55816284e-03 ... -3.36293236e-05\n",
      "  3.86014353e-04 -1.20536445e-03]\n"
     ]
    }
   ],
   "source": [
    "alpha = 1000\n",
    "\n",
    "ridge = Ridge(alpha = 1000)\n",
    "\n",
    "ridge.fit(newX, newY)\n",
    "\n",
    "print(\"The optimal solution for ridge with alpha =\",alpha, \"is:\")\n",
    "\n",
    "for i in ridge.coef_:\n",
    "    print(i)"
   ]
  },
  {
   "cell_type": "markdown",
   "metadata": {},
   "source": [
    "### Exact solution for Lasso"
   ]
  },
  {
   "cell_type": "code",
   "execution_count": 25,
   "metadata": {},
   "outputs": [
    {
     "name": "stdout",
     "output_type": "stream",
     "text": [
      "The optimal solution for lasso with alpha = 1000 is: [ 0.  0. -0. ...  0. -0. -0.]\n"
     ]
    }
   ],
   "source": [
    "alpha = 1000 / newY.shape[0]\n",
    "alpha2 = 1000\n",
    "\n",
    "lasso = Lasso(alpha)\n",
    "\n",
    "lasso.fit(newX, newY)\n",
    "\n",
    "print(\"The optimal solution for lasso with alpha =\",alpha2, \"is:\", lasso.coef_)\n",
    "\n"
   ]
  },
  {
   "cell_type": "markdown",
   "metadata": {},
   "source": [
    "### Splitting the data into train test sets"
   ]
  },
  {
   "cell_type": "code",
   "execution_count": 30,
   "metadata": {},
   "outputs": [
    {
     "name": "stdout",
     "output_type": "stream",
     "text": [
      "Training and testing split was successful!!!\n",
      "\n",
      "\n",
      "size of the training data is: (400, 17322)\n",
      "size of the training class label is: (400, 1)\n",
      "size of the testing data is: (136, 17322)\n",
      "size of the testing class label is: (136, 1)\n"
     ]
    }
   ],
   "source": [
    "# The ridge\n",
    "\n",
    "n = 400                     # number of training examples\n",
    "X_train = newX[:n]\n",
    "X_test = newX[n:]\n",
    "Y_train = newY[:n]\n",
    "Y_test = newY[n:]\n",
    "\n",
    "\n",
    "print(\"Training and testing split was successful!!!\")\n",
    "\n",
    "print(\"\\n\")\n",
    "\n",
    "print(\"size of the training data is:\", X_train.shape)\n",
    "print(\"size of the training class label is:\", Y_train.shape)\n",
    "print(\"size of the testing data is:\", X_test.shape)\n",
    "print(\"size of the testing class label is:\", Y_test.shape)"
   ]
  },
  {
   "cell_type": "code",
   "execution_count": null,
   "metadata": {},
   "outputs": [],
   "source": [
    "print(\"FOR THE TRAINING DATA\")\n",
    "\n",
    "\n",
    "from sklearn.linear_model import Ridge\n",
    "\n",
    "lambda_settings = [0, 0.01, 0.1, 1, 10, 100, 1000]\n",
    "\n",
    "\n",
    "for alpha in lambda_settings: \n",
    "                   \n",
    "    # build the model\n",
    "    ridge = Ridge(X_train, Y_train, alpha)\n",
    "    print(\"The optimal soultions are :\", ridge.coef_)\n",
    "    print(\" \")"
   ]
  },
  {
   "cell_type": "code",
   "execution_count": null,
   "metadata": {},
   "outputs": [],
   "source": [
    "print(\"FOR THE TESTING DATA \\n\")\n",
    "from sklearn.linear_model import Ridge\n",
    "\n",
    "\n",
    "test_accuracy = []\n",
    "\n",
    "\n",
    "for alpha in lambda_settings:\n",
    "    \n",
    "    # build the model   \n",
    "    ridge = Ridge(alpha).fit(X_test, Y_test)\n",
    "    \n",
    "    # record generalization accuracy\n",
    "    test_accuracy.append(ridge.score(X_test, Y_test))\n",
    "    \n",
    "    print(\"The Optimal solutions for alpha =\",alpha,\"are\",ridge.coef_ )\n",
    "    print(\" \")\n"
   ]
  },
  {
   "cell_type": "markdown",
   "metadata": {},
   "source": [
    "## To calculate the Mean Squared error on the training and testing data\n"
   ]
  },
  {
   "cell_type": "code",
   "execution_count": null,
   "metadata": {},
   "outputs": [],
   "source": [
    "# calculating the errors for all the lambda values\n",
    "from sklearn.linear_model import Ridge\n",
    "\n",
    "MSEs = []\n",
    "RMSEs = []\n",
    "\n",
    "training_accuracy = []\n",
    "test_accuracy = []\n",
    "\n",
    "TR_accuracy = []\n",
    "TE_accuracy = []\n",
    "\n",
    "\n",
    "for alpha in lambda_settings:\n",
    "    \n",
    "    # build the model \n",
    "    ridge = Ridge(alpha)\n",
    "    ridge.fit(X_train, Y_train)\n",
    "    predictions = ridge.predict(X_test)\n",
    "    \n",
    "    MSEs.append(metrics.mean_squared_error(Y_test, predictions))\n",
    "    RMSEs.append(np.sqrt(metrics.mean_squared_error(Y_test, predictions)))\n",
    "    \n",
    "    # record training accuracy\n",
    "    TR_accuracy.append((alpha, ridge.score(X_train, Y_train)))\n",
    "    training_accuracy.append( ridge.score(X_train, Y_train))\n",
    "    \n",
    "    # record generalization accuracy\n",
    "    TE_accuracy.append((alpha, ridge.score(X_test, Y_test)))\n",
    "    test_accuracy.append( ridge.score(X_test, Y_test))"
   ]
  },
  {
   "cell_type": "code",
   "execution_count": null,
   "metadata": {},
   "outputs": [],
   "source": [
    "# Plot the accuracy values\n",
    "\n",
    "    plt.plot(np.log(np.array(RMSEs)),\n",
    "         RMSEs, label = \"RMSE\", marker = '*', markersize = 5)\n",
    "plt.plot(np.log(np.array(lambda_settings)),\n",
    "        lambda_settings, label = \"lambda\", marker = 'd', markersize = 6)\n",
    "\n",
    "plt.ylabel(\"lambda\")\n",
    "plt.xlabel(\"RMSE\")\n",
    "plt.legend()"
   ]
  },
  {
   "cell_type": "code",
   "execution_count": null,
   "metadata": {},
   "outputs": [],
   "source": [
    "print(\"Training Accuracy\") \n",
    "for i in TR_accuracy:\n",
    "    print(\"for alpha =\", i[0],\":\",i[1])   \n",
    "    \n",
    "\n",
    "print(\" \")\n",
    "\n",
    "print(\"Testing Accuracy\")\n",
    "for i in TE_accuracy:\n",
    "    print(\"for alpha =\", i[0],\":\", i[1])    \n"
   ]
  },
  {
   "cell_type": "code",
   "execution_count": null,
   "metadata": {},
   "outputs": [],
   "source": [
    "# Plotting the accuracy values\n",
    "\n",
    "plt.plot(np.log(np.array(lambda_settings)),\n",
    "         training_accuracy, label = \"Training accuracy\", marker = '*', markersize = 5 )\n",
    "plt.plot(np.log(np.array(lambda_settings)),\n",
    "        test_accuracy, label = \"Test accuracy\", marker = 'd', markersize = 6)\n",
    "plt.ylabel(\"Accuracy\")\n",
    "plt.xlabel(\"lambda logs\")\n",
    "plt.legend()"
   ]
  },
  {
   "cell_type": "code",
   "execution_count": null,
   "metadata": {},
   "outputs": [],
   "source": [
    "print(\"FOR THE DATA \\n\")\n",
    "\n",
    "test_accuracy = []\n",
    "\n",
    "\n",
    "for alpha in lambda_settings:\n",
    "    alpha2 = alpha / n\n",
    "    \n",
    "    # build the model   \n",
    "    lasso = Lasso(alpha2).fit(X_train, Y_train)\n",
    "    \n",
    "    # record generalization accuracy\n",
    "    test_accuracy.append(lasso.score(X_test, Y_test))\n",
    "    \n",
    "    print(\"The Optimal solutions for alpha =\",alpha,\"are\",lasso.coef_ )\n",
    "    print(\" \")\n",
    "\n",
    "\n",
    "    \n",
    "#print(\"Testing Accuracy\")  \n",
    "#for i in test_accuracy:\n",
    "    #print(i)    \n",
    "    "
   ]
  },
  {
   "cell_type": "code",
   "execution_count": null,
   "metadata": {},
   "outputs": [],
   "source": [
    "# We make preduictions first\n",
    "\n",
    "predictions = lasso.predict(X_test)\n",
    "print('MSE: ',metrics.mean_squared_error(Y_test, predictions))\n",
    "print('RMSE: ',np.sqrt(metrics.mean_squared_error(Y_test, predictions)))"
   ]
  },
  {
   "cell_type": "code",
   "execution_count": null,
   "metadata": {},
   "outputs": [],
   "source": [
    "# calculating the errors for all the lambda values\n",
    "\n",
    "n = 400\n",
    "MSEs = []\n",
    "RMSEs = []\n",
    "\n",
    "training_accuracy = []\n",
    "test_accuracy = []\n",
    "\n",
    "TR_accuracy = []\n",
    "TE_accuracy = []\n",
    "\n",
    "# try alpha from 0 to 1000\n",
    "alpha_settings = [0, 0.01, 0.1, 1, 10, 100, 1000]\n",
    "\n",
    "for alpha in alpha_settings:\n",
    "    alpha2 = alpha / n\n",
    "    \n",
    "    # build the model\n",
    "    lasso = Lasso(alpha2, max_iter = 10000000)\n",
    "    lasso.fit(X_train, Y_train)\n",
    "    \n",
    "    predictions = lasso.predict(X_test)\n",
    "    \n",
    "    MSEs.append(metrics.mean_squared_error(Y_test, predictions))\n",
    "    RMSEs.append(np.sqrt(metrics.mean_squared_error(Y_test, predictions)))\n",
    "    \n",
    "    \n",
    "    # record training accuracy\n",
    "    training_accuracy.append(lasso.score(X_train, Y_train))\n",
    "    TR_accuracy.append((alpha,lasso.score(X_train, Y_train)))\n",
    "    \n",
    "    # record generalization accuracy\n",
    "    test_accuracy.append(lasso.score(X_test, Y_test))\n",
    "    TE_accuracy.append((alpha,lasso.score(X_test, Y_test)))\n"
   ]
  },
  {
   "cell_type": "code",
   "execution_count": null,
   "metadata": {},
   "outputs": [],
   "source": [
    "print(\"Training Accuracy\") \n",
    "for i in TR_accuracy:\n",
    "    print(\"for alpha =\", i[0],\":\",i[1])   \n",
    "    \n",
    "\n",
    "print(\" \")\n",
    "\n",
    "print(\"Testing Accuracy\")\n",
    "for i in TE_accuracy:\n",
    "    print(\"for alpha =\", i[0],\":\", i[1]) "
   ]
  },
  {
   "cell_type": "code",
   "execution_count": null,
   "metadata": {},
   "outputs": [],
   "source": [
    "# Plot the accuracy values\n",
    "\n",
    "plt.plot(np.log(np.array(lambda_settings)),\n",
    "         RMSEs, label = \"RMSE\", marker = '*', markersize = 5)\n",
    "plt.plot(np.log(np.array(lambda_settings)),\n",
    "        lambda_settings, label = \"lambda\", marker = 'd', markersize = 6)\n",
    "\n",
    "plt.ylabel(\"lambda\")\n",
    "plt.xlabel(\"RMSE\")\n",
    "plt.legend()"
   ]
  },
  {
   "cell_type": "markdown",
   "metadata": {},
   "source": [
    "# QUESTION 3 : CROSS VALIDATION"
   ]
  },
  {
   "cell_type": "code",
   "execution_count": null,
   "metadata": {},
   "outputs": [],
   "source": [
    "# We use Grid search cross validation function to find the best lambda value.\n",
    "# We work on the training examples only\n",
    "\n",
    "lasso = Lasso()\n",
    "\n",
    "parameters = {'alpha': [0, 0.01, 0.1, 1, 10, 100, 1000]}\n",
    "\n",
    "lasso_regressor = GridSearchCV(lasso, parameters, scoring = 'neg_mean_squared_error', cv = 5, verbose = 0)\n",
    "\n",
    "lasso_regressor.fit(X_train, Y_train)\n",
    "\n",
    "\n",
    "# print out the best lambda value for the model\n",
    "\n",
    "\n",
    "print(\"The best lambda value for Lasso is:\", lasso_regressor.best_params_['alpha'])\n",
    "print(\"The best score is:\",lasso_regressor.best_score_)\n",
    "\n",
    "print(\" \")\n",
    "\n",
    "predictions = lasso_regressor.predict(X_test)\n",
    "print('MSE: ',metrics.mean_squared_error(Y_test, predictions))\n",
    "print('RMSE: ',np.sqrt(metrics.mean_squared_error(Y_test, predictions)))\n"
   ]
  },
  {
   "cell_type": "code",
   "execution_count": null,
   "metadata": {},
   "outputs": [],
   "source": [
    "from sklearn.linear_model import Ridge\n",
    "\n",
    "\n",
    "Ridge = Ridge()\n",
    "\n",
    "parameters = {'alpha': [0, 0.01, 0.1, 1, 10, 100, 1000]}\n",
    "\n",
    "Ridge_regressor = GridSearchCV(Ridge, parameters, scoring = 'neg_mean_squared_error', cv = 5)\n",
    "\n",
    "Ridge_regressor.fit(X_train, Y_train)\n",
    "\n",
    "# print out the best lambda value for the model\n",
    "\n",
    "print(\"The best lambda value for Ridge is:\", Ridge_regressor.best_params_['alpha'])\n",
    "print(\"The best score is:\",Ridge_regressor.best_score_)\n",
    "\n",
    "print(\" \")\n",
    "\n",
    "predictions = Ridge_regressor.predict(X_test)\n",
    "print('MSE: ',metrics.mean_squared_error(Y_test, predictions))\n",
    "print('RMSE: ',np.sqrt(metrics.mean_squared_error(Y_test, predictions)))\n"
   ]
  }
 ],
 "metadata": {
  "kernelspec": {
   "display_name": "Python 3",
   "language": "python",
   "name": "python3"
  },
  "language_info": {
   "codemirror_mode": {
    "name": "ipython",
    "version": 3
   },
   "file_extension": ".py",
   "mimetype": "text/x-python",
   "name": "python",
   "nbconvert_exporter": "python",
   "pygments_lexer": "ipython3",
   "version": "3.6.6"
  }
 },
 "nbformat": 4,
 "nbformat_minor": 2
}
