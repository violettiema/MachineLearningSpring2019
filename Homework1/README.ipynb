{
 "cells": [
  {
   "cell_type": "markdown",
   "metadata": {},
   "source": [
    "===============================================================================================================\n",
    "\n",
    "# Machine Learning Homework 1\n",
    "\n",
    "# Violet Tiema\n",
    "\n",
    "# Jan 24 2018\n",
    "\n",
    "===============================================================================================================\n",
    "\n",
    "This is the code for homework assignment1 which I ran on Jupyter notebook for Ipython. \n",
    "\n",
    "THE INPUT  : is the folder path for the documents and the folder path for the queries \n",
    "THE OUTPUT : the documents with the highest similarity scores for each query(dot and cosine similarity)\n",
    "\n",
    "Note that we use the term frequency to mean number of occurrences in the document collection and not as a the normal frequency that we are used to.\n",
    "\n"
   ]
  },
  {
   "cell_type": "code",
   "execution_count": null,
   "metadata": {},
   "outputs": [],
   "source": []
  }
 ],
 "metadata": {
  "kernelspec": {
   "display_name": "Python 3",
   "language": "python",
   "name": "python3"
  },
  "language_info": {
   "codemirror_mode": {
    "name": "ipython",
    "version": 3
   },
   "file_extension": ".py",
   "mimetype": "text/x-python",
   "name": "python",
   "nbconvert_exporter": "python",
   "pygments_lexer": "ipython3",
   "version": "3.6.6"
  }
 },
 "nbformat": 4,
 "nbformat_minor": 2
}
